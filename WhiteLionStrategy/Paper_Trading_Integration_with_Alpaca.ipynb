{
  "cells": [
    {
      "cell_type": "code",
      "execution_count": null,
      "metadata": {
        "colab": {
          "base_uri": "https://localhost:8080/"
        },
        "id": "R8VCmp8EQcbF",
        "outputId": "d5a8c949-1d2c-44a2-cc37-a493dee3c59f"
      },
      "outputs": [
        {
          "name": "stdout",
          "output_type": "stream",
          "text": [
            "\u001b[?25l   \u001b[90m━━━━━━━━━━━━━━━━━━━━━━━━━━━━━━━━━━━━━━━━\u001b[0m \u001b[32m0.0/122.0 kB\u001b[0m \u001b[31m?\u001b[0m eta \u001b[36m-:--:--\u001b[0m\r\u001b[2K   \u001b[90m━━━━━━━━━━━━━━━━━━━━━━━━━━━━━━━━━━━━━━━━\u001b[0m \u001b[32m122.0/122.0 kB\u001b[0m \u001b[31m3.7 MB/s\u001b[0m eta \u001b[36m0:00:00\u001b[0m\n",
            "\u001b[?25hRows: 390\n"
          ]
        }
      ],
      "source": [
        "!pip -q install -U alpaca-py\n",
        "from alpaca.data.historical import StockHistoricalDataClient\n",
        "from alpaca.data.requests import StockBarsRequest\n",
        "from alpaca.data.timeframe import TimeFrame\n",
        "from datetime import datetime, timedelta, timezone\n",
        "\n",
        "API_KEY=\"PKB9SXQSORHZSB1VIXY0\"; API_SEC=\"q4n01bamgGErL7p261A7mu5UvHZOOTO2i6rSsXgJ\"\n",
        "client = StockHistoricalDataClient(API_KEY, API_SEC)\n",
        "req = StockBarsRequest(symbol_or_symbols=\"AAPL\", timeframe=TimeFrame.Minute, start=datetime.now(timezone.utc)-timedelta(days=1), feed=\"iex\")\n",
        "bars = client.get_stock_bars(req)\n",
        "print(\"Rows:\", 0 if bars.df is None else len(bars.df))\n"
      ]
    },
    {
      "cell_type": "code",
      "execution_count": 12,
      "metadata": {
        "colab": {
          "base_uri": "https://localhost:8080/"
        },
        "id": "cVugUT0iHVYT",
        "outputId": "593ed5eb-5013-4237-974d-98e62d6956f2"
      },
      "outputs": [
        {
          "name": "stdout",
          "output_type": "stream",
          "text": [
            "Requirement already satisfied: alpaca-py in /usr/local/lib/python3.11/dist-packages (0.42.0)\n",
            "Requirement already satisfied: msgpack<2.0.0,>=1.0.3 in /usr/local/lib/python3.11/dist-packages (from alpaca-py) (1.1.1)\n",
            "Requirement already satisfied: pandas>=1.5.3 in /usr/local/lib/python3.11/dist-packages (from alpaca-py) (2.2.2)\n",
            "Requirement already satisfied: pydantic<3.0.0,>=2.0.3 in /usr/local/lib/python3.11/dist-packages (from alpaca-py) (2.11.7)\n",
            "Requirement already satisfied: requests<3.0.0,>=2.30.0 in /usr/local/lib/python3.11/dist-packages (from alpaca-py) (2.32.3)\n",
            "Requirement already satisfied: sseclient-py<2.0.0,>=1.7.2 in /usr/local/lib/python3.11/dist-packages (from alpaca-py) (1.8.0)\n",
            "Requirement already satisfied: websockets>=10.4 in /usr/local/lib/python3.11/dist-packages (from alpaca-py) (15.0.1)\n",
            "Requirement already satisfied: numpy>=1.23.2 in /usr/local/lib/python3.11/dist-packages (from pandas>=1.5.3->alpaca-py) (2.0.2)\n",
            "Requirement already satisfied: python-dateutil>=2.8.2 in /usr/local/lib/python3.11/dist-packages (from pandas>=1.5.3->alpaca-py) (2.9.0.post0)\n",
            "Requirement already satisfied: pytz>=2020.1 in /usr/local/lib/python3.11/dist-packages (from pandas>=1.5.3->alpaca-py) (2025.2)\n",
            "Requirement already satisfied: tzdata>=2022.7 in /usr/local/lib/python3.11/dist-packages (from pandas>=1.5.3->alpaca-py) (2025.2)\n",
            "Requirement already satisfied: annotated-types>=0.6.0 in /usr/local/lib/python3.11/dist-packages (from pydantic<3.0.0,>=2.0.3->alpaca-py) (0.7.0)\n",
            "Requirement already satisfied: pydantic-core==2.33.2 in /usr/local/lib/python3.11/dist-packages (from pydantic<3.0.0,>=2.0.3->alpaca-py) (2.33.2)\n",
            "Requirement already satisfied: typing-extensions>=4.12.2 in /usr/local/lib/python3.11/dist-packages (from pydantic<3.0.0,>=2.0.3->alpaca-py) (4.14.1)\n",
            "Requirement already satisfied: typing-inspection>=0.4.0 in /usr/local/lib/python3.11/dist-packages (from pydantic<3.0.0,>=2.0.3->alpaca-py) (0.4.1)\n",
            "Requirement already satisfied: charset-normalizer<4,>=2 in /usr/local/lib/python3.11/dist-packages (from requests<3.0.0,>=2.30.0->alpaca-py) (3.4.2)\n",
            "Requirement already satisfied: idna<4,>=2.5 in /usr/local/lib/python3.11/dist-packages (from requests<3.0.0,>=2.30.0->alpaca-py) (3.10)\n",
            "Requirement already satisfied: urllib3<3,>=1.21.1 in /usr/local/lib/python3.11/dist-packages (from requests<3.0.0,>=2.30.0->alpaca-py) (2.5.0)\n",
            "Requirement already satisfied: certifi>=2017.4.17 in /usr/local/lib/python3.11/dist-packages (from requests<3.0.0,>=2.30.0->alpaca-py) (2025.8.3)\n",
            "Requirement already satisfied: six>=1.5 in /usr/local/lib/python3.11/dist-packages (from python-dateutil>=2.8.2->pandas>=1.5.3->alpaca-py) (1.17.0)\n"
          ]
        }
      ],
      "source": [
        "!pip install alpaca-py\n",
        "from alpaca.trading.client import TradingClient\n",
        "from alpaca.trading.requests import MarketOrderRequest\n",
        "from alpaca.trading.enums import OrderSide, TimeInForce\n",
        "\n",
        "#api_key=\"PKB9SXQSORHZSB1VIXY0\"\n",
        "#secret_key=\"q4n01bamgGErL7p261A7mu5UvHZOOTO2i6rSsXgJ\"\n",
        "trading_client = TradingClient('PKB9SXQSORHZSB1VIXY0', 'q4n01bamgGErL7p261A7mu5UvHZOOTO2i6rSsXgJ', paper=True)\n",
        "\n"
      ]
    },
    {
      "cell_type": "code",
      "execution_count": 14,
      "metadata": {
        "id": "U2h_-iNYNVmY"
      },
      "outputs": [],
      "source": [
        "# preparing orders\n",
        "market_order_data = MarketOrderRequest(\n",
        "                    symbol=\"AAPL\",\n",
        "                    qty=1,\n",
        "                    side=OrderSide.BUY,\n",
        "                    time_in_force=TimeInForce.GTC\n",
        "                    )\n",
        "\n",
        "# Market order\n",
        "market_order = trading_client.submit_order(\n",
        "                order_data=market_order_data\n",
        "               )"
      ]
    },
    {
      "cell_type": "code",
      "execution_count": 11,
      "metadata": {
        "id": "CWXvrcp0J5pl"
      },
      "outputs": [],
      "source": [
        "api_key=\"PKB9SXQSORHZSB1VIXY0\"\n",
        "secret_key=\"q4n01bamgGErL7p261A7mu5UvHZOOTO2i6rSsXgJ\"\n",
        "trading_client = TradingClient('PKB9SXQSORHZSB1VIXY0', 'q4n01bamgGErL7p261A7mu5UvHZOOTO2i6rSsXgJ', paper=True)\n",
        "\n",
        "# preparing orders\n",
        "market_order_data = MarketOrderRequest(\n",
        "                    symbol=\"AAPL\",\n",
        "                    qty=1,\n",
        "                    side=OrderSide.BUY,\n",
        "                    time_in_force=TimeInForce.GTC\n",
        "                    )\n",
        "\n",
        "# Market order\n",
        "market_order = trading_client.submit_order(\n",
        "                order_data=market_order_data\n",
        "               )"
      ]
    },
    {
      "cell_type": "code",
      "execution_count": null,
      "metadata": {
        "colab": {
          "base_uri": "https://localhost:8080/"
        },
        "id": "N6HT40vjQc9Y",
        "outputId": "31e5661e-8376-4797-f58d-1461f1ba4679"
      },
      "outputs": [
        {
          "name": "stdout",
          "output_type": "stream",
          "text": [
            "No trades returned for the chosen window. Try a different time.\n"
          ]
        }
      ],
      "source": [
        "# --- ONE CELL: historical AAPL 1-second bars from last market day (IEX) ---  WORKS\n",
        "\n",
        "#!pip -q install -U alpaca-py pytz\n",
        "\n",
        "import os, pandas as pd, pytz\n",
        "from datetime import datetime, timedelta, time as dtime, timezone\n",
        "from alpaca.data.historical import StockHistoricalDataClient\n",
        "from alpaca.data.requests import StockTradesRequest\n",
        "\n",
        "# ---------- PUT YOUR (regenerated) KEYS HERE ----------\n",
        "API_KEY    = \"PKB9SXQSORHZSB1VIXY0\"\n",
        "\n",
        "API_SECRET = \"q4n01bamgGErL7p261A7mu5UvHZOOTO2i6rSsXgJ\"\n",
        "# ------------------------------------------------------\n",
        "\n",
        "client = StockHistoricalDataClient(API_KEY, API_SECRET)\n",
        "et = pytz.timezone(\"US/Eastern\")\n",
        "\n",
        "# Helper: get last US weekday (Mon-Fri). Good enough for a quick demo.\n",
        "def last_weekday(dt):\n",
        "    # step back until Mon-Fri\n",
        "    while dt.weekday() >= 5:  # 5=Sat, 6=Sun\n",
        "        dt -= timedelta(days=1)\n",
        "    return dt\n",
        "\n",
        "# Choose a 10-minute window on the last market day (change if you want)\n",
        "today_et = datetime.now(et).date()\n",
        "#prev_day_et = last_weekday(datetime.now(et).date() - timedelta(days=1))\n",
        "\n",
        "# Example window: 10:00:00–10:10:00 ET on last weekday\n",
        "start_et = datetime.combine(today_et, dtime(8, 30), tzinfo=et)\n",
        "end_et   = datetime.combine(today_et, dtime(15, 59), tzinfo=et)\n",
        "\n",
        "# Convert to UTC for the API\n",
        "start_utc = start_et.astimezone(timezone.utc)\n",
        "end_utc   = end_et.astimezone(timezone.utc)\n",
        "\n",
        "# Fetch raw trades (IEX feed)\n",
        "req = StockTradesRequest(\n",
        "    symbol_or_symbols=\"AAPL\",\n",
        "    start=start_utc,\n",
        "    end=end_utc,\n",
        "    feed=\"iex\",\n",
        "    limit=50000,  # plenty for 10 minutes\n",
        ")\n",
        "trades = client.get_stock_trades(req)\n",
        "\n",
        "if trades.df is None or trades.df.empty:\n",
        "    print(\"No trades returned for the chosen window. Try a different time.\")\n",
        "else:\n",
        "    # If multiple symbols were requested, it's a MultiIndex. We have one, but handle both.\n",
        "    tdf = trades.df\n",
        "    if isinstance(tdf.index, pd.MultiIndex):\n",
        "        tdf = tdf.xs(\"AAPL\", level=0)\n",
        "\n",
        "    # Ensure timestamp index is tz-aware UTC -> convert to ET\n",
        "    tdf.index = pd.to_datetime(tdf.index, utc=True).tz_convert(et)\n",
        "    tdf = tdf.between_time(\"09:30:00\", \"16:00:00\")\n",
        "\n",
        "    # Aggregate to true 1-second bars: Open = first trade in second, Close = last trade in second\n",
        "    sec = tdf[\"price\"].resample(\"1s\").agg([\"first\", \"last\"]).dropna()\n",
        "    sec.columns = [\"Open\", \"Close\"]\n",
        "\n",
        "    print(\"AAPL 1-second bars (ET):\")\n",
        "    print(sec['Close'].iloc[-1])\n",
        "    print(\"\\nRows:\", len(sec), \"| Window:\", start_et, \"to\", end_et)\n",
        "    display(sec)\n",
        "    # Quick plot of Close\n",
        "    sec[\"Close\"].plot(figsize=(24, 3), title=\"AAPL Close (1-second, historical demo)\")\n"
      ]
    },
    {
      "cell_type": "code",
      "execution_count": null,
      "metadata": {
        "colab": {
          "base_uri": "https://localhost:8080/"
        },
        "id": "cyiGDbv0F2ri",
        "outputId": "1672ef3e-1d1d-405e-b30e-2e9e86ce1b80"
      },
      "outputs": [
        {
          "name": "stdout",
          "output_type": "stream",
          "text": [
            "2025-08-09 08:30:00-04:56\n"
          ]
        }
      ],
      "source": [
        "print(datetime.combine(today_et, dtime(8, 30), tzinfo=et))"
      ]
    },
    {
      "cell_type": "code",
      "execution_count": null,
      "metadata": {
        "colab": {
          "base_uri": "https://localhost:8080/",
          "height": 837
        },
        "id": "MNqyGPaz7w8h",
        "outputId": "35a30060-965c-4cd7-b148-9254468ad4e9"
      },
      "outputs": [
        {
          "name": "stdout",
          "output_type": "stream",
          "text": [
            "Stock 1-second bars (ET):\n",
            "5.15\n",
            "\n",
            "Rows: 796 | Window: 2025-08-07 08:30:00-04:56 to 2025-08-08 15:59:00-04:56\n",
            "                           Open  Close\n",
            "timestamp                             \n",
            "2025-08-07 09:34:43-04:00  3.80   3.80\n",
            "2025-08-07 09:40:02-04:00  3.96   3.99\n",
            "2025-08-07 09:50:27-04:00  3.88   3.88\n",
            "2025-08-07 09:50:56-04:00  3.90   3.90\n",
            "2025-08-07 10:01:21-04:00  3.94   3.94\n"
          ]
        },
        {
          "name": "stderr",
          "output_type": "stream",
          "text": [
            "/tmp/ipython-input-804541841.py:54: FutureWarning: 'S' is deprecated and will be removed in a future version, please use 's' instead.\n",
            "  sec = tdf[\"price\"].resample(\"1S\").agg([\"first\", \"last\"]).dropna()\n"
          ]
        },
        {
          "ename": "IndexingError",
          "evalue": "Too many indexers",
          "output_type": "error",
          "traceback": [
            "\u001b[0;31m---------------------------------------------------------------------------\u001b[0m",
            "\u001b[0;31mIndexingError\u001b[0m                             Traceback (most recent call last)",
            "\u001b[0;32m/tmp/ipython-input-804541841.py\u001b[0m in \u001b[0;36m<cell line: 0>\u001b[0;34m()\u001b[0m\n\u001b[1;32m    183\u001b[0m   \u001b[0;31m#latest_open_price, close_price, last_day_data = convert_data(data)\u001b[0m\u001b[0;34m\u001b[0m\u001b[0;34m\u001b[0m\u001b[0m\n\u001b[1;32m    184\u001b[0m   \u001b[0;31m#strategy(latest_open_price, close_price, last_day_data) # UNCOMMENT this when not using market_hours_loop\u001b[0m\u001b[0;34m\u001b[0m\u001b[0;34m\u001b[0m\u001b[0m\n\u001b[0;32m--> 185\u001b[0;31m   \u001b[0mmarket_hours_loop\u001b[0m\u001b[0;34m(\u001b[0m\u001b[0;34m)\u001b[0m\u001b[0;34m\u001b[0m\u001b[0;34m\u001b[0m\u001b[0m\n\u001b[0m",
            "\u001b[0;32m/tmp/ipython-input-804541841.py\u001b[0m in \u001b[0;36mmarket_hours_loop\u001b[0;34m()\u001b[0m\n\u001b[1;32m    172\u001b[0m             \u001b[0;31m#data = download_data('SMX', interval='1m', start_date='2025-08-07', end_date='2025-08-09') # COMMENT out during IRL testing\u001b[0m\u001b[0;34m\u001b[0m\u001b[0;34m\u001b[0m\u001b[0m\n\u001b[1;32m    173\u001b[0m             \u001b[0mdata\u001b[0m \u001b[0;34m=\u001b[0m \u001b[0mdownload_data\u001b[0m\u001b[0;34m(\u001b[0m\u001b[0;34m'VVPR'\u001b[0m\u001b[0;34m,\u001b[0m \u001b[0;34m'1m'\u001b[0m\u001b[0;34m,\u001b[0m \u001b[0;34m'2d'\u001b[0m\u001b[0;34m)\u001b[0m \u001b[0;31m# - UNCOMMENT during IRL testing and UNCOMMENT this when not using market_hours_loop\u001b[0m\u001b[0;34m\u001b[0m\u001b[0;34m\u001b[0m\u001b[0m\n\u001b[0;32m--> 174\u001b[0;31m             \u001b[0mlatest_open_price\u001b[0m\u001b[0;34m,\u001b[0m \u001b[0mclose_price\u001b[0m\u001b[0;34m,\u001b[0m \u001b[0mlast_day_data\u001b[0m \u001b[0;34m=\u001b[0m \u001b[0mconvert_data\u001b[0m\u001b[0;34m(\u001b[0m\u001b[0mdata\u001b[0m\u001b[0;34m)\u001b[0m\u001b[0;34m\u001b[0m\u001b[0;34m\u001b[0m\u001b[0m\n\u001b[0m\u001b[1;32m    175\u001b[0m             \u001b[0mstrategy\u001b[0m\u001b[0;34m(\u001b[0m\u001b[0mlatest_open_price\u001b[0m\u001b[0;34m,\u001b[0m \u001b[0mclose_price\u001b[0m\u001b[0;34m,\u001b[0m \u001b[0mlast_day_data\u001b[0m\u001b[0;34m)\u001b[0m\u001b[0;34m\u001b[0m\u001b[0;34m\u001b[0m\u001b[0m\n\u001b[1;32m    176\u001b[0m \u001b[0;34m\u001b[0m\u001b[0m\n",
            "\u001b[0;32m/tmp/ipython-input-804541841.py\u001b[0m in \u001b[0;36mconvert_data\u001b[0;34m(data)\u001b[0m\n\u001b[1;32m     92\u001b[0m \u001b[0;34m\u001b[0m\u001b[0m\n\u001b[1;32m     93\u001b[0m   \u001b[0;31m# Step 5: Get the close price at that timestamp\u001b[0m\u001b[0;34m\u001b[0m\u001b[0;34m\u001b[0m\u001b[0m\n\u001b[0;32m---> 94\u001b[0;31m   \u001b[0mclose_price\u001b[0m \u001b[0;34m=\u001b[0m \u001b[0mdata\u001b[0m\u001b[0;34m.\u001b[0m\u001b[0mloc\u001b[0m\u001b[0;34m[\u001b[0m\u001b[0mprev_day_max_dt\u001b[0m\u001b[0;34m,\u001b[0m \u001b[0;34m'Close'\u001b[0m\u001b[0;34m]\u001b[0m\u001b[0;34m.\u001b[0m\u001b[0mvalues\u001b[0m\u001b[0;34m[\u001b[0m\u001b[0;36m0\u001b[0m\u001b[0;34m]\u001b[0m\u001b[0;34m\u001b[0m\u001b[0;34m\u001b[0m\u001b[0m\n\u001b[0m\u001b[1;32m     95\u001b[0m \u001b[0;34m\u001b[0m\u001b[0m\n\u001b[1;32m     96\u001b[0m   \u001b[0;31m#print(\"Previous day:\", prev_date)\u001b[0m\u001b[0;34m\u001b[0m\u001b[0;34m\u001b[0m\u001b[0m\n",
            "\u001b[0;32m/usr/local/lib/python3.11/dist-packages/pandas/core/indexing.py\u001b[0m in \u001b[0;36m__getitem__\u001b[0;34m(self, key)\u001b[0m\n\u001b[1;32m   1182\u001b[0m             \u001b[0;32mif\u001b[0m \u001b[0mself\u001b[0m\u001b[0;34m.\u001b[0m\u001b[0m_is_scalar_access\u001b[0m\u001b[0;34m(\u001b[0m\u001b[0mkey\u001b[0m\u001b[0;34m)\u001b[0m\u001b[0;34m:\u001b[0m\u001b[0;34m\u001b[0m\u001b[0;34m\u001b[0m\u001b[0m\n\u001b[1;32m   1183\u001b[0m                 \u001b[0;32mreturn\u001b[0m \u001b[0mself\u001b[0m\u001b[0;34m.\u001b[0m\u001b[0mobj\u001b[0m\u001b[0;34m.\u001b[0m\u001b[0m_get_value\u001b[0m\u001b[0;34m(\u001b[0m\u001b[0;34m*\u001b[0m\u001b[0mkey\u001b[0m\u001b[0;34m,\u001b[0m \u001b[0mtakeable\u001b[0m\u001b[0;34m=\u001b[0m\u001b[0mself\u001b[0m\u001b[0;34m.\u001b[0m\u001b[0m_takeable\u001b[0m\u001b[0;34m)\u001b[0m\u001b[0;34m\u001b[0m\u001b[0;34m\u001b[0m\u001b[0m\n\u001b[0;32m-> 1184\u001b[0;31m             \u001b[0;32mreturn\u001b[0m \u001b[0mself\u001b[0m\u001b[0;34m.\u001b[0m\u001b[0m_getitem_tuple\u001b[0m\u001b[0;34m(\u001b[0m\u001b[0mkey\u001b[0m\u001b[0;34m)\u001b[0m\u001b[0;34m\u001b[0m\u001b[0;34m\u001b[0m\u001b[0m\n\u001b[0m\u001b[1;32m   1185\u001b[0m         \u001b[0;32melse\u001b[0m\u001b[0;34m:\u001b[0m\u001b[0;34m\u001b[0m\u001b[0;34m\u001b[0m\u001b[0m\n\u001b[1;32m   1186\u001b[0m             \u001b[0;31m# we by definition only have the 0th axis\u001b[0m\u001b[0;34m\u001b[0m\u001b[0;34m\u001b[0m\u001b[0m\n",
            "\u001b[0;32m/usr/local/lib/python3.11/dist-packages/pandas/core/indexing.py\u001b[0m in \u001b[0;36m_getitem_tuple\u001b[0;34m(self, tup)\u001b[0m\n\u001b[1;32m   1369\u001b[0m \u001b[0;34m\u001b[0m\u001b[0m\n\u001b[1;32m   1370\u001b[0m         \u001b[0;31m# no multi-index, so validate all of the indexers\u001b[0m\u001b[0;34m\u001b[0m\u001b[0;34m\u001b[0m\u001b[0m\n\u001b[0;32m-> 1371\u001b[0;31m         \u001b[0mtup\u001b[0m \u001b[0;34m=\u001b[0m \u001b[0mself\u001b[0m\u001b[0;34m.\u001b[0m\u001b[0m_validate_tuple_indexer\u001b[0m\u001b[0;34m(\u001b[0m\u001b[0mtup\u001b[0m\u001b[0;34m)\u001b[0m\u001b[0;34m\u001b[0m\u001b[0;34m\u001b[0m\u001b[0m\n\u001b[0m\u001b[1;32m   1372\u001b[0m \u001b[0;34m\u001b[0m\u001b[0m\n\u001b[1;32m   1373\u001b[0m         \u001b[0;31m# ugly hack for GH #836\u001b[0m\u001b[0;34m\u001b[0m\u001b[0;34m\u001b[0m\u001b[0m\n",
            "\u001b[0;32m/usr/local/lib/python3.11/dist-packages/pandas/core/indexing.py\u001b[0m in \u001b[0;36m_validate_tuple_indexer\u001b[0;34m(self, key)\u001b[0m\n\u001b[1;32m    960\u001b[0m         \u001b[0mCheck\u001b[0m \u001b[0mthe\u001b[0m \u001b[0mkey\u001b[0m \u001b[0;32mfor\u001b[0m \u001b[0mvalid\u001b[0m \u001b[0mkeys\u001b[0m \u001b[0macross\u001b[0m \u001b[0mmy\u001b[0m \u001b[0mindexer\u001b[0m\u001b[0;34m.\u001b[0m\u001b[0;34m\u001b[0m\u001b[0;34m\u001b[0m\u001b[0m\n\u001b[1;32m    961\u001b[0m         \"\"\"\n\u001b[0;32m--> 962\u001b[0;31m         \u001b[0mkey\u001b[0m \u001b[0;34m=\u001b[0m \u001b[0mself\u001b[0m\u001b[0;34m.\u001b[0m\u001b[0m_validate_key_length\u001b[0m\u001b[0;34m(\u001b[0m\u001b[0mkey\u001b[0m\u001b[0;34m)\u001b[0m\u001b[0;34m\u001b[0m\u001b[0;34m\u001b[0m\u001b[0m\n\u001b[0m\u001b[1;32m    963\u001b[0m         \u001b[0mkey\u001b[0m \u001b[0;34m=\u001b[0m \u001b[0mself\u001b[0m\u001b[0;34m.\u001b[0m\u001b[0m_expand_ellipsis\u001b[0m\u001b[0;34m(\u001b[0m\u001b[0mkey\u001b[0m\u001b[0;34m)\u001b[0m\u001b[0;34m\u001b[0m\u001b[0;34m\u001b[0m\u001b[0m\n\u001b[1;32m    964\u001b[0m         \u001b[0;32mfor\u001b[0m \u001b[0mi\u001b[0m\u001b[0;34m,\u001b[0m \u001b[0mk\u001b[0m \u001b[0;32min\u001b[0m \u001b[0menumerate\u001b[0m\u001b[0;34m(\u001b[0m\u001b[0mkey\u001b[0m\u001b[0;34m)\u001b[0m\u001b[0;34m:\u001b[0m\u001b[0;34m\u001b[0m\u001b[0;34m\u001b[0m\u001b[0m\n",
            "\u001b[0;32m/usr/local/lib/python3.11/dist-packages/pandas/core/indexing.py\u001b[0m in \u001b[0;36m_validate_key_length\u001b[0;34m(self, key)\u001b[0m\n\u001b[1;32m    999\u001b[0m                     \u001b[0;32mraise\u001b[0m \u001b[0mIndexingError\u001b[0m\u001b[0;34m(\u001b[0m\u001b[0m_one_ellipsis_message\u001b[0m\u001b[0;34m)\u001b[0m\u001b[0;34m\u001b[0m\u001b[0;34m\u001b[0m\u001b[0m\n\u001b[1;32m   1000\u001b[0m                 \u001b[0;32mreturn\u001b[0m \u001b[0mself\u001b[0m\u001b[0;34m.\u001b[0m\u001b[0m_validate_key_length\u001b[0m\u001b[0;34m(\u001b[0m\u001b[0mkey\u001b[0m\u001b[0;34m)\u001b[0m\u001b[0;34m\u001b[0m\u001b[0;34m\u001b[0m\u001b[0m\n\u001b[0;32m-> 1001\u001b[0;31m             \u001b[0;32mraise\u001b[0m \u001b[0mIndexingError\u001b[0m\u001b[0;34m(\u001b[0m\u001b[0;34m\"Too many indexers\"\u001b[0m\u001b[0;34m)\u001b[0m\u001b[0;34m\u001b[0m\u001b[0;34m\u001b[0m\u001b[0m\n\u001b[0m\u001b[1;32m   1002\u001b[0m         \u001b[0;32mreturn\u001b[0m \u001b[0mkey\u001b[0m\u001b[0;34m\u001b[0m\u001b[0;34m\u001b[0m\u001b[0m\n\u001b[1;32m   1003\u001b[0m \u001b[0;34m\u001b[0m\u001b[0m\n",
            "\u001b[0;31mIndexingError\u001b[0m: Too many indexers"
          ]
        },
        {
          "data": {
            "image/png": "[encoded data removed]",
            "text/plain": [
              "<Figure size 2400x300 with 1 Axes>"
            ]
          },
          "metadata": {},
          "output_type": "display_data"
        }
      ],
      "source": [
        "import os, pandas as pd, pytz\n",
        "from datetime import datetime, timedelta, time as dtime, timezone\n",
        "from alpaca.data.historical import StockHistoricalDataClient\n",
        "from alpaca.data.requests import StockTradesRequest\n",
        "\n",
        "###ESSENTIAL -- DEBUG Code\n",
        "client = StockHistoricalDataClient(API_KEY, API_SECRET)\n",
        "et = pytz.timezone(\"US/Eastern\")\n",
        "\n",
        "# Helper: get last US weekday (Mon-Fri). Good enough for a quick demo.\n",
        "def download_data(data, interval, period):\n",
        "    # step back until Mon-Fri\n",
        "    #while dt.weekday() >= 5:  # 5=Sat, 6=Sun\n",
        "\n",
        "    #dt -= timedelta(days=1)\n",
        "    #return dt\n",
        "\n",
        "    # Choose a 10-minute window on the last market day (change if you want)\n",
        "    today_et = datetime.now(et).date()\n",
        "    prev_et = today_et - timedelta(days=1)\n",
        "    #prev_day_et = last_weekday(datetime.now(et).date() - timedelta(days=1))\n",
        "\n",
        "    # Example window: 10:00:00–10:10:00 ET on last weekday\n",
        "    start_et = datetime.combine(prev_et, dtime(8, 30), tzinfo=et)\n",
        "    end_et   = datetime.combine(today_et, dtime(15, 59), tzinfo=et)\n",
        "\n",
        "    # Convert to UTC for the API\n",
        "    start_utc = start_et.astimezone(timezone.utc)\n",
        "    end_utc   = end_et.astimezone(timezone.utc)\n",
        "\n",
        "    # Fetch raw trades (IEX feed)\n",
        "    req = StockTradesRequest(\n",
        "        symbol_or_symbols= data,\n",
        "        start=start_utc,\n",
        "        end=end_utc,\n",
        "        feed=\"iex\",\n",
        "        limit=50000,  # plenty for 10 minutes\n",
        "    )\n",
        "    trades = client.get_stock_trades(req)\n",
        "\n",
        "    if trades.df is None or trades.df.empty:\n",
        "        print(\"No trades returned for the chosen window. Try a different time.\")\n",
        "    else:\n",
        "        # If multiple symbols were requested, it's a MultiIndex. We have one, but handle both.\n",
        "        tdf = trades.df\n",
        "        if isinstance(tdf.index, pd.MultiIndex):\n",
        "            tdf = tdf.xs(data, level=0)\n",
        "\n",
        "        # Ensure timestamp index is tz-aware UTC -> convert to ET\n",
        "        tdf.index = pd.to_datetime(tdf.index, utc=True).tz_convert(et)\n",
        "        tdf = tdf.between_time(\"09:30:00\", \"16:00:00\")\n",
        "\n",
        "        # Aggregate to true 1-second bars: Open = first trade in second, Close = last trade in second\n",
        "        sec = tdf[\"price\"].resample(\"1s\").agg([\"first\", \"last\"]).dropna()\n",
        "        sec.columns = [\"Open\", \"Close\"]\n",
        "\n",
        "        print(\"Stock 1-second bars (ET):\")\n",
        "        print(sec['Close'].iloc[-1])\n",
        "        print(\"\\nRows:\", len(sec), \"| Window:\", start_et, \"to\", end_et)\n",
        "        print(sec.head(5))\n",
        "        data = sec['Close']\n",
        "        # Quick plot of Close\n",
        "        sec[\"Close\"].plot(figsize=(24, 3), title=\"Stock Close (1-second, historical demo)\")\n",
        "    return data\n",
        "\n",
        "#def download_data(stock, interval, period): #- UNCOMMENT IRL testing\n",
        "#def download_data(stock, interval, period=None, start_date=None, end_date=None): # COMMENT during IRL testing\n",
        " # data = pd.DataFrame()\n",
        "  #ticker = stock\n",
        "  #ticker = yf.download(stock, start=start_date, end=end_date) - old version irrelavant\n",
        "  #ticker = yf.download(stock, interval=interval, period=period) # - UNCOMMENT during IRL testing\n",
        "  #ticker = yf.download(stock, start=start_date, end=end_date, interval=interval) # COMMENT during IRL testing\n",
        "  #data = ticker[['Open','Close']]# the OG statement\n",
        "  #data = ticker # comment out later\n",
        "  #display(data.tail(5))\n",
        "  # return data\n",
        "\n",
        "def convert_data(data):\n",
        "\n",
        "  # Step 1: Convert the latest datetime to ET\n",
        "  data.index = data.index.tz_convert('US/Eastern')\n",
        "\n",
        "  # Step 2: Get the latest datetime in the dataset\n",
        "  latest_date = data.index[-1].date()\n",
        "\n",
        "  # Step 3: Get the previous date in the dataset before the latest one\n",
        "  available_dates = sorted(set(data.index.date))\n",
        "  prev_date = [d for d in available_dates if d < latest_date][-1]\n",
        "\n",
        "  # Step 4: Get the max datetime for that previous day\n",
        "  prev_day_max_dt = data[data.index.date == prev_date].index.max()\n",
        "\n",
        "  # Step 5: Get the close price at that timestamp\n",
        "  close_price = data.loc[prev_day_max_dt, 'Close'].values[0]\n",
        "\n",
        "  #print(\"Previous day:\", prev_date)\n",
        "  #print(\"Max datetime:\", prev_day_max_dt)\n",
        "  print(\"Closing price:\", close_price)\n",
        "\n",
        "  # Step 6: Plot the latest stock movement graph\n",
        "  prev_data = data[data.index.date == pd.to_datetime(prev_day_max_dt).date()]\n",
        "  #display(prev_data.iloc[-1])\n",
        "  plot_data = data[data.index.date == pd.to_datetime(latest_date).date()]\n",
        "  plot_data = pd.concat([prev_data.iloc[-1:], plot_data])\n",
        "  #display(plot_data)\n",
        "  plot_data = plot_data.between_time('09:29', '15:59')\n",
        "  plot_data['Close'].plot(figsize=(6, 2.5))\n",
        "  #display(plot_data.head(10))\n",
        "  last_day_data = data[data.index.date == pd.to_datetime(latest_date).date()]\n",
        "  #display(last_day_data)\n",
        "  latest_data = pd.DataFrame()\n",
        "  latest_data['Close'] =  last_day_data['Close']\n",
        "  latest_data.plot(figsize=(24, 2.5))\n",
        "  #display(latest_data.head(10))\n",
        "  #plt.show()\n",
        "\n",
        "  #target_time = pd.Timestamp('2025-08-01 09:30:00-04:00', tz='US/Eastern') - previous version\n",
        "  target_time = data[data.index.date == latest_date].index.min() # correct and the best version\n",
        "  #target_time = pd.Timestamp(data.index[0]) # new version - wrong version\n",
        "\n",
        "  latest_open_price = data.loc[target_time,'Open'].values[0]\n",
        "  print('Latest Open Price:', latest_open_price)\n",
        "  display(latest_data.head(5))\n",
        "  return latest_open_price, close_price, latest_data\n",
        "\n",
        "def strategy(latest_open_price, close_price, latest_data):\n",
        "\n",
        "  print(f\"DEBUG: latest_open_price={latest_open_price}, close_price={close_price}\")\n",
        "  print(f\"DEBUG: ratio={latest_open_price / close_price}\")\n",
        "\n",
        "  if latest_open_price / close_price > 1.1: # updated from real terms of 1.8\n",
        "      signal = -1\n",
        "      shares = -100\n",
        "      cost = shares * latest_open_price\n",
        "      mwap = abs(cost / shares)\n",
        "\n",
        "      print(f\"Initial MWAP: {mwap}, Shares: {shares}, Cost: {cost}\")\n",
        "      count = 0\n",
        "      for ts, row in latest_data.iterrows():\n",
        "          latest_price = row['Close']\n",
        "          target_price = latest_price * 0.90 # modified to within 95% of the max\n",
        "\n",
        "          print(f\"DEBUG Loop: ts={ts}, latest_price={latest_price}, target_price={target_price}, mwap={mwap}, cost = {cost}, shares = {shares}\")\n",
        "          count += 1\n",
        "          if mwap < target_price:\n",
        "              add_shares = (0.90 * latest_price * shares - mwap * shares) / (0.1* latest_price)\n",
        "              shares += add_shares\n",
        "              new_cost = add_shares * latest_price\n",
        "              cost += new_cost\n",
        "              mwap = abs(cost / shares)\n",
        "\n",
        "              print(f\"Time: {ts}\")\n",
        "              print(f\"New shares purchased: {add_shares}\")\n",
        "              print(f\"Latest MWAP: {mwap}\")\n",
        "              print(f\"Updated total cost: {cost}\")\n",
        "              print(\"-\" * 40)\n",
        "      count -= 1\n",
        "      print(count)\n",
        "      close_price = latest_data['Close'].iloc[count]\n",
        "      pnl = (mwap - close_price) * abs(shares)\n",
        "      print(f'PnL is', pnl)\n",
        "\n",
        "def market_hours_loop():\n",
        "    eastern = pytz.timezone('US/Eastern')\n",
        "    start_time = dtime(9, 29)  # 9:29 AM Eastern\n",
        "    end_time = dtime(16, 1)   # 4:01 PM Eastern\n",
        "\n",
        "    while True:\n",
        "        now_eastern = datetime.now(eastern).time()\n",
        "\n",
        "        if start_time <= now_eastern <= end_time:\n",
        "            #data = download_data('SMX', interval='1m', start_date='2025-08-07', end_date='2025-08-09') # COMMENT out during IRL testing\n",
        "            data = download_data('VVPR', '1m', '2d') # - UNCOMMENT during IRL testing and UNCOMMENT this when not using market_hours_loop\n",
        "            latest_open_price, close_price, last_day_data = convert_data(data)\n",
        "            strategy(latest_open_price, close_price, last_day_data)\n",
        "\n",
        "        # Sleep 30 seconds\n",
        "        time.sleep(30)\n",
        "\n",
        "if __name__ == '__main__':\n",
        "  #data = download_data('PHLT', '1m', '2d') # - UNCOMMENT during IRL testing and UNCOMMENT this when not using market_hours_loop\n",
        "  #data = download_data('SMXT', interval='1m', start_date='2025-08-04', end_date='2025-08-06') # COMMENT out during IRL testing and UNCOMMENT this when not using market_hours_loop\n",
        "  #latest_open_price, close_price, last_day_data = convert_data(data)\n",
        "  #strategy(latest_open_price, close_price, last_day_data) # UNCOMMENT this when not using market_hours_loop\n",
        "  market_hours_loop()"
      ]
    },
    {
      "cell_type": "code",
      "execution_count": null,
      "metadata": {
        "id": "wi4ubADm-1YB"
      },
      "outputs": [],
      "source": []
    }
  ],
  "metadata": {
    "colab": {
      "provenance": []
    },
    "kernelspec": {
      "display_name": "Python 3",
      "name": "python3"
    },
    "language_info": {
      "name": "python"
    }
  },
  "nbformat": 4,
  "nbformat_minor": 0
}
