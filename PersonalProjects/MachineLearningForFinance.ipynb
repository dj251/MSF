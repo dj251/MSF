{
 "cells": [
  {
   "cell_type": "code",
   "execution_count": 1,
   "id": "dbfa38ad",
   "metadata": {},
   "outputs": [],
   "source": [
    "#NaN - Not a Number"
   ]
  },
  {
   "cell_type": "code",
   "execution_count": 22,
   "id": "70ac3147",
   "metadata": {},
   "outputs": [],
   "source": [
    "import pandas as pd\n",
    "import yfinance as yf\n",
    "import matplotlib.pyplot as plt"
   ]
  },
  {
   "cell_type": "code",
   "execution_count": 11,
   "id": "db3c90b6",
   "metadata": {},
   "outputs": [
    {
     "name": "stdout",
     "output_type": "stream",
     "text": [
      "          Date      Open      High       Low     Close  Adj Close  Volume\n",
      "10  1993-02-12  44.87500  44.87500  44.59375  44.59375  25.403217   42500\n",
      "11  1993-02-16  44.46875  44.46875  43.40625  43.46875  24.762348  374800\n",
      "12  1993-02-17  43.46875  43.53125  43.28125  43.43750  24.744534  210900\n",
      "13  1993-02-18  43.93750  43.93750  42.81250  43.40625  24.726730  378100\n",
      "14  1993-02-19  43.40625  43.56250  43.34375  43.56250  24.815750   34900\n",
      "15  1993-02-22  43.68750  43.78125  43.56250  43.71875  24.904762  513600\n",
      "16  1993-02-23  43.84375  43.87500  43.46875  43.68750  24.886953  373700\n",
      "17  1993-02-24  43.71875  44.25000  43.71875  44.25000  25.207384   26300\n",
      "18  1993-02-25  44.21875  44.37500  44.12500  44.34375  25.260788   44500\n",
      "19  1993-02-26  44.43750  44.43750  44.18750  44.40625  25.296408   66200\n",
      "20  1993-03-01  44.56250  44.56250  44.21875  44.28125  25.225189   66500\n"
     ]
    }
   ],
   "source": [
    "def test_run():\n",
    "    df = pd.read_csv(\"SPY.csv\")\n",
    "    print(df[10:21])\n",
    "\n",
    "if __name__ == \"__main__\":\n",
    "    test_run()    "
   ]
  },
  {
   "cell_type": "code",
   "execution_count": 16,
   "id": "9ebdb40f",
   "metadata": {},
   "outputs": [
    {
     "name": "stderr",
     "output_type": "stream",
     "text": [
      "C:\\Users\\YOGA\\AppData\\Local\\Temp\\ipykernel_21532\\1129512628.py:2: FutureWarning: YF.download() has changed argument auto_adjust default to True\n",
      "  df = yf.download(symbols, start=\"2010-01-01\", end=\"2020-12-31\")\n",
      "[*********************100%***********************]  1 of 1 completed\n",
      "C:\\Users\\YOGA\\AppData\\Local\\Temp\\ipykernel_21532\\1129512628.py:2: FutureWarning: YF.download() has changed argument auto_adjust default to True\n",
      "  df = yf.download(symbols, start=\"2010-01-01\", end=\"2020-12-31\")\n",
      "[*********************100%***********************]  1 of 1 completed"
     ]
    },
    {
     "name": "stdout",
     "output_type": "stream",
     "text": [
      "Max close\n",
      "Ticker\n",
      "AAPL    133.190216\n",
      "dtype: float64\n",
      "Max close\n",
      "Ticker\n",
      "IBM    126.355293\n",
      "dtype: float64\n"
     ]
    },
    {
     "name": "stderr",
     "output_type": "stream",
     "text": [
      "\n"
     ]
    }
   ],
   "source": [
    "def get_max_close(symbols):\n",
    "    df = yf.download(symbols, start=\"2010-01-01\", end=\"2020-12-31\")\n",
    "    adj_close = df['Close']\n",
    "    max_close = adj_close.max()\n",
    "    return max_close\n",
    "\n",
    "def test_run():\n",
    "    for symbol in ['AAPL', 'IBM']:\n",
    "        print(\"Max close\")\n",
    "        print(get_max_close(symbol))\n",
    "\n",
    "if __name__ == \"__main__\":\n",
    "    test_run()\n"
   ]
  },
  {
   "cell_type": "code",
   "execution_count": 20,
   "id": "1e5dc3c0",
   "metadata": {},
   "outputs": [
    {
     "name": "stderr",
     "output_type": "stream",
     "text": [
      "C:\\Users\\YOGA\\AppData\\Local\\Temp\\ipykernel_21532\\3545009880.py:2: FutureWarning: YF.download() has changed argument auto_adjust default to True\n",
      "  df = yf.download(symbols, start=\"2010-01-01\", end=\"2020-12-31\")\n",
      "[*********************100%***********************]  1 of 1 completed\n",
      "C:\\Users\\YOGA\\AppData\\Local\\Temp\\ipykernel_21532\\3545009880.py:2: FutureWarning: YF.download() has changed argument auto_adjust default to True\n",
      "  df = yf.download(symbols, start=\"2010-01-01\", end=\"2020-12-31\")\n",
      "[*********************100%***********************]  1 of 1 completed"
     ]
    },
    {
     "name": "stdout",
     "output_type": "stream",
     "text": [
      "Mean Volume\n",
      "Ticker\n",
      "AAPL    2.866839e+08\n",
      "dtype: float64\n",
      "Mean Volume\n",
      "Ticker\n",
      "IBM    4.990727e+06\n",
      "dtype: float64\n"
     ]
    },
    {
     "name": "stderr",
     "output_type": "stream",
     "text": [
      "\n"
     ]
    }
   ],
   "source": [
    "def get_mean_value(symbols):\n",
    "    df = yf.download(symbols, start=\"2010-01-01\", end=\"2020-12-31\")\n",
    "    return df['Volume'].mean()\n",
    "\n",
    "def test_run():\n",
    "    for symbol in ['AAPL', 'IBM']:\n",
    "        print(\"Mean Volume\")\n",
    "        print(get_mean_value(symbol))\n",
    "\n",
    "if __name__ == \"__main__\":\n",
    "    test_run()\n"
   ]
  },
  {
   "cell_type": "code",
   "execution_count": 25,
   "id": "600ebfe0",
   "metadata": {},
   "outputs": [
    {
     "name": "stdout",
     "output_type": "stream",
     "text": [
      "Mean Volume\n"
     ]
    },
    {
     "name": "stderr",
     "output_type": "stream",
     "text": [
      "C:\\Users\\YOGA\\AppData\\Local\\Temp\\ipykernel_21532\\971991880.py:2: FutureWarning: YF.download() has changed argument auto_adjust default to True\n",
      "  df = yf.download(symbols, start=\"2010-01-01\", end=\"2025-05-31\")\n",
      "[*********************100%***********************]  1 of 1 completed"
     ]
    },
    {
     "name": "stdout",
     "output_type": "stream",
     "text": [
      "Ticker            AAPL\n",
      "Date                  \n",
      "2010-01-04    6.424603\n",
      "2010-01-05    6.435714\n",
      "2010-01-06    6.333344\n",
      "2010-01-07    6.321637\n",
      "2010-01-08    6.363665\n",
      "...                ...\n",
      "2025-05-23  195.048645\n",
      "2025-05-27  199.983047\n",
      "2025-05-28  200.192795\n",
      "2025-05-29  199.723328\n",
      "2025-05-30  200.622314\n",
      "\n",
      "[3876 rows x 1 columns]\n"
     ]
    },
    {
     "name": "stderr",
     "output_type": "stream",
     "text": [
      "\n"
     ]
    },
    {
     "data": {
      "image/png": "[encoded data removed]",
      "text/plain": [
       "<Figure size 640x480 with 1 Axes>"
      ]
     },
     "metadata": {},
     "output_type": "display_data"
    },
    {
     "name": "stderr",
     "output_type": "stream",
     "text": [
      "C:\\Users\\YOGA\\AppData\\Local\\Temp\\ipykernel_21532\\971991880.py:2: FutureWarning: YF.download() has changed argument auto_adjust default to True\n",
      "  df = yf.download(symbols, start=\"2010-01-01\", end=\"2025-05-31\")\n"
     ]
    },
    {
     "name": "stdout",
     "output_type": "stream",
     "text": [
      "None\n",
      "Mean Volume\n"
     ]
    },
    {
     "name": "stderr",
     "output_type": "stream",
     "text": [
      "[*********************100%***********************]  1 of 1 completed"
     ]
    },
    {
     "name": "stdout",
     "output_type": "stream",
     "text": [
      "Ticker             IBM\n",
      "Date                  \n",
      "2010-01-04   73.283348\n",
      "2010-01-05   72.398064\n",
      "2010-01-06   71.927773\n",
      "2010-01-07   71.678787\n",
      "2010-01-08   72.398064\n",
      "...                ...\n",
      "2025-05-23  256.893127\n",
      "2025-05-27  261.462219\n",
      "2025-05-28  258.492279\n",
      "2025-05-29  256.952728\n",
      "2025-05-30  257.320221\n",
      "\n",
      "[3876 rows x 1 columns]\n"
     ]
    },
    {
     "name": "stderr",
     "output_type": "stream",
     "text": [
      "\n"
     ]
    },
    {
     "data": {
      "image/png": "[encoded data removed]",
      "text/plain": [
       "<Figure size 640x480 with 1 Axes>"
      ]
     },
     "metadata": {},
     "output_type": "display_data"
    },
    {
     "name": "stdout",
     "output_type": "stream",
     "text": [
      "None\n"
     ]
    }
   ],
   "source": [
    "def get_mean_value(symbols):\n",
    "    df = yf.download(symbols, start=\"2010-01-01\", end=\"2025-05-31\")\n",
    "    print(df['Close'])\n",
    "    df['Close'].plot()\n",
    "    plt.show()\n",
    "\n",
    "\n",
    "def test_run():\n",
    "    for symbol in ['AAPL', 'IBM']:\n",
    "        print(\"Mean Volume\")\n",
    "        print(get_mean_value(symbol))\n",
    "\n",
    "if __name__ == \"__main__\":\n",
    "    test_run()\n"
   ]
  },
  {
   "cell_type": "code",
   "execution_count": 35,
   "id": "60a7be2d",
   "metadata": {},
   "outputs": [
    {
     "name": "stderr",
     "output_type": "stream",
     "text": [
      "C:\\Users\\YOGA\\AppData\\Local\\Temp\\ipykernel_21532\\1549952487.py:2: FutureWarning: YF.download() has changed argument auto_adjust default to True\n",
      "  df = yf.download('IBM', start=\"2010-01-01\", end = \"2025-08-29\")\n",
      "[*********************100%***********************]  1 of 1 completed\n"
     ]
    },
    {
     "data": {
      "image/png": "[encoded data removed]",
      "text/plain": [
       "<Figure size 640x480 with 1 Axes>"
      ]
     },
     "metadata": {},
     "output_type": "display_data"
    }
   ],
   "source": [
    "def test_run():\n",
    "    df = yf.download('IBM', start=\"2010-01-01\", end = \"2025-08-29\")\n",
    "    high = df[['Close','High']].plot()\n",
    "    high.plot()\n",
    "    plt.show()\n",
    "if __name__ == \"__main__\":\n",
    "    test_run()\n"
   ]
  },
  {
   "cell_type": "code",
   "execution_count": 27,
   "id": "6d76b61a",
   "metadata": {},
   "outputs": [
    {
     "name": "stderr",
     "output_type": "stream",
     "text": [
      "C:\\Users\\YOGA\\AppData\\Local\\Temp\\ipykernel_21532\\3231690605.py:1: FutureWarning: YF.download() has changed argument auto_adjust default to True\n",
      "  df = yf.download(\"IBM\", start=\"2010-01-01\", end=\"2020-12-31\")\n",
      "[*********************100%***********************]  1 of 1 completed\n"
     ]
    },
    {
     "data": {
      "application/vnd.microsoft.datawrangler.viewer.v0+json": {
       "columns": [
        {
         "name": "Date",
         "rawType": "datetime64[ns]",
         "type": "datetime"
        },
        {
         "name": "('Close', 'IBM')",
         "rawType": "float64",
         "type": "float"
        },
        {
         "name": "('High', 'IBM')",
         "rawType": "float64",
         "type": "float"
        },
        {
         "name": "('Low', 'IBM')",
         "rawType": "float64",
         "type": "float"
        },
        {
         "name": "('Open', 'IBM')",
         "rawType": "float64",
         "type": "float"
        },
        {
         "name": "('Volume', 'IBM')",
         "rawType": "int64",
         "type": "integer"
        }
       ],
       "ref": "9d0c166c-1df2-4379-b289-2e67e227b1f7",
       "rows": [
        [
         "2010-01-04 00:00:00",
         "73.28333282470703",
         "73.57104357662067",
         "72.39807033126522",
         "72.58065362319863",
         "6438444"
        ],
        [
         "2010-01-05 00:00:00",
         "72.3980941772461",
         "72.95138562561175",
         "71.98312559097185",
         "72.85732325350035",
         "7156104"
        ],
        [
         "2010-01-06 00:00:00",
         "71.92778015136719",
         "72.75218458602633",
         "71.82265709473701",
         "72.30401631284238",
         "5863144"
        ],
        [
         "2010-01-07 00:00:00",
         "71.67877197265625",
         "72.06607309361813",
         "71.32466619829862",
         "71.8558226521105",
         "6109268"
        ],
        [
         "2010-01-08 00:00:00",
         "72.3980941772461",
         "72.43682210597862",
         "71.40217133636868",
         "71.4132364588637",
         "4390271"
        ],
        [
         "2010-01-11 00:00:00",
         "71.64007568359375",
         "72.51427323589864",
         "71.19191178634145",
         "72.51427323589864",
         "5993998"
        ],
        [
         "2010-01-12 00:00:00",
         "72.20994567871094",
         "72.66364643217678",
         "71.37447627083925",
         "71.39107836355704",
         "8453249"
        ],
        [
         "2010-01-13 00:00:00",
         "72.05503845214844",
         "72.54746720985042",
         "71.46301919706501",
         "72.1435638293154",
         "6752348"
        ],
        [
         "2010-01-14 00:00:00",
         "73.20585632324219",
         "73.42717189746345",
         "71.87795846246516",
         "72.23206426430907",
         "7438943"
        ],
        [
         "2010-01-15 00:00:00",
         "72.91264343261719",
         "73.52679738719931",
         "72.530874680848",
         "73.05096627602438",
         "8885142"
        ],
        [
         "2010-01-19 00:00:00",
         "74.21837615966797",
         "74.27923871155508",
         "72.79088350787273",
         "72.82961582832787",
         "14556345"
        ],
        [
         "2010-01-20 00:00:00",
         "72.06608581542969",
         "72.56404701054231",
         "71.34680902420588",
         "72.18227837995427",
         "15896585"
        ],
        [
         "2010-01-21 00:00:00",
         "71.37447357177734",
         "72.30953783879511",
         "70.85438212890861",
         "72.18781271253539",
         "10050596"
        ],
        [
         "2010-01-22 00:00:00",
         "69.43793487548828",
         "71.31358649269842",
         "69.36600721932551",
         "71.19186582373347",
         "10552676"
        ],
        [
         "2010-01-25 00:00:00",
         "69.781005859375",
         "70.20703942481587",
         "69.55415326273861",
         "69.89719402193587",
         "6002471"
        ],
        [
         "2010-01-26 00:00:00",
         "69.57628631591797",
         "70.68286439947241",
         "69.38816605476107",
         "69.67034423877125",
         "7463524"
        ],
        [
         "2010-01-27 00:00:00",
         "69.89718627929688",
         "70.24575955926825",
         "69.18344204303405",
         "69.61500812005576",
         "9120283"
        ],
        [
         "2010-01-28 00:00:00",
         "68.46971893310547",
         "70.29004613290137",
         "68.08241762221874",
         "70.28451357242093",
         "10064821"
        ],
        [
         "2010-01-29 00:00:00",
         "67.71723175048828",
         "69.16132253884564",
         "67.44612308217926",
         "68.78508640663156",
         "12103475"
        ],
        [
         "2010-02-01 00:00:00",
         "68.9787368774414",
         "69.13366179809363",
         "67.93302125960616",
         "68.18199969679763",
         "7576073"
        ],
        [
         "2010-02-02 00:00:00",
         "69.45455169677734",
         "69.60947216577438",
         "68.58035446783",
         "69.04511587482111",
         "6171295"
        ],
        [
         "2010-02-03 00:00:00",
         "69.52648162841797",
         "69.75332978076966",
         "69.20004300432281",
         "69.24983603246962",
         "4369247"
        ],
        [
         "2010-02-04 00:00:00",
         "68.05474853515625",
         "69.40477714887611",
         "67.99941851642035",
         "69.26645430976191",
         "9546737"
        ],
        [
         "2010-02-05 00:00:00",
         "68.34245300292969",
         "68.45311303015018",
         "67.40739299317454",
         "68.07687688541189",
         "9013382"
        ],
        [
         "2010-02-08 00:00:00",
         "67.7366714477539",
         "68.48139913234914",
         "67.65886473969167",
         "68.44249356071818",
         "5981551"
        ],
        [
         "2010-02-09 00:00:00",
         "68.47583770751953",
         "69.02604637125783",
         "68.05901323106322",
         "68.16460645879512",
         "6322547"
        ],
        [
         "2010-02-10 00:00:00",
         "68.25349426269531",
         "68.72033422345072",
         "67.9200339798722",
         "68.32574362104057",
         "5459179"
        ],
        [
         "2010-02-11 00:00:00",
         "68.76483917236328",
         "69.02605025676078",
         "67.83671154921434",
         "68.12570915952661",
         "5323094"
        ],
        [
         "2010-02-12 00:00:00",
         "68.91487121582031",
         "68.94265773203131",
         "67.58659147217085",
         "68.36466271325781",
         "8386514"
        ],
        [
         "2010-02-16 00:00:00",
         "69.59845733642578",
         "69.59845733642578",
         "68.97599951491951",
         "69.42061034376783",
         "7089056"
        ],
        [
         "2010-02-17 00:00:00",
         "70.2098159790039",
         "70.32097093525955",
         "69.58736241660895",
         "69.74853311150058",
         "6095460"
        ],
        [
         "2010-02-18 00:00:00",
         "71.03235626220703",
         "71.137949487928",
         "70.02642200707866",
         "70.09867140421386",
         "5780091"
        ],
        [
         "2010-02-19 00:00:00",
         "70.68777465820312",
         "71.17129117440801",
         "70.50993205178231",
         "70.77669596141352",
         "6593043"
        ],
        [
         "2010-02-22 00:00:00",
         "70.49881744384766",
         "70.82116328666581",
         "70.19870525463024",
         "70.74891389166164",
         "3983273"
        ],
        [
         "2010-02-23 00:00:00",
         "70.28207397460938",
         "70.94899492339614",
         "70.0264246402407",
         "70.2931930197554",
         "4803127"
        ],
        [
         "2010-02-24 00:00:00",
         "70.91004943847656",
         "71.28797257512454",
         "70.4765532833777",
         "70.59326549251855",
         "5001972"
        ],
        [
         "2010-02-25 00:00:00",
         "70.62106323242188",
         "70.71554181401004",
         "69.78741460072179",
         "70.05418287249745",
         "5919000"
        ],
        [
         "2010-02-26 00:00:00",
         "70.67113494873047",
         "71.13797532971317",
         "70.43771475823912",
         "70.58777091178364",
         "5004273"
        ],
        [
         "2010-03-01 00:00:00",
         "71.45475006103516",
         "71.5992488796241",
         "70.84340651728188",
         "70.86007843438058",
         "4788274"
        ],
        [
         "2010-03-02 00:00:00",
         "70.81560516357422",
         "71.74373267870023",
         "70.65443446162757",
         "71.52698449619292",
         "6289912"
        ],
        [
         "2010-03-03 00:00:00",
         "70.5155029296875",
         "71.14907565301715",
         "70.40434795287888",
         "70.98790049312467",
         "6683940"
        ],
        [
         "2010-03-04 00:00:00",
         "70.42656707763672",
         "70.62108604156519",
         "69.7318640953764",
         "70.62108604156519",
         "6309786"
        ],
        [
         "2010-03-05 00:00:00",
         "70.72111511230469",
         "70.88784309181968",
         "70.60440286552513",
         "70.67665224800808",
         "6422649"
        ],
        [
         "2010-03-08 00:00:00",
         "70.25424194335938",
         "70.86002327465329",
         "70.22645543649145",
         "70.6154887086256",
         "6484468"
        ],
        [
         "2010-03-09 00:00:00",
         "69.77631378173828",
         "70.18758087611803",
         "69.58179927740072",
         "70.17646626846431",
         "7875125"
        ],
        [
         "2010-03-10 00:00:00",
         "69.81524658203125",
         "70.22651383686626",
         "69.58738373063358",
         "70.02088020944876",
         "7234345"
        ],
        [
         "2010-03-11 00:00:00",
         "70.91565704345703",
         "71.03236933538628",
         "69.86525972169419",
         "69.86525972169419",
         "8286621"
        ],
        [
         "2010-03-12 00:00:00",
         "71.10462188720703",
         "71.34359935221046",
         "70.86564442220362",
         "71.08794996910919",
         "5407297"
        ],
        [
         "2010-03-15 00:00:00",
         "71.04349517822266",
         "71.32693555897407",
         "70.73782557080864",
         "70.80451768599727",
         "4704594"
        ],
        [
         "2010-03-16 00:00:00",
         "71.51033782958984",
         "71.62704570125233",
         "70.83230208480487",
         "71.13797168300756",
         "6417105"
        ]
       ],
       "shape": {
        "columns": 5,
        "rows": 2768
       }
      },
      "text/html": [
       "<div>\n",
       "<style scoped>\n",
       "    .dataframe tbody tr th:only-of-type {\n",
       "        vertical-align: middle;\n",
       "    }\n",
       "\n",
       "    .dataframe tbody tr th {\n",
       "        vertical-align: top;\n",
       "    }\n",
       "\n",
       "    .dataframe thead tr th {\n",
       "        text-align: left;\n",
       "    }\n",
       "\n",
       "    .dataframe thead tr:last-of-type th {\n",
       "        text-align: right;\n",
       "    }\n",
       "</style>\n",
       "<table border=\"1\" class=\"dataframe\">\n",
       "  <thead>\n",
       "    <tr>\n",
       "      <th>Price</th>\n",
       "      <th>Close</th>\n",
       "      <th>High</th>\n",
       "      <th>Low</th>\n",
       "      <th>Open</th>\n",
       "      <th>Volume</th>\n",
       "    </tr>\n",
       "    <tr>\n",
       "      <th>Ticker</th>\n",
       "      <th>IBM</th>\n",
       "      <th>IBM</th>\n",
       "      <th>IBM</th>\n",
       "      <th>IBM</th>\n",
       "      <th>IBM</th>\n",
       "    </tr>\n",
       "    <tr>\n",
       "      <th>Date</th>\n",
       "      <th></th>\n",
       "      <th></th>\n",
       "      <th></th>\n",
       "      <th></th>\n",
       "      <th></th>\n",
       "    </tr>\n",
       "  </thead>\n",
       "  <tbody>\n",
       "    <tr>\n",
       "      <th>2010-01-04</th>\n",
       "      <td>73.283333</td>\n",
       "      <td>73.571044</td>\n",
       "      <td>72.398070</td>\n",
       "      <td>72.580654</td>\n",
       "      <td>6438444</td>\n",
       "    </tr>\n",
       "    <tr>\n",
       "      <th>2010-01-05</th>\n",
       "      <td>72.398094</td>\n",
       "      <td>72.951386</td>\n",
       "      <td>71.983126</td>\n",
       "      <td>72.857323</td>\n",
       "      <td>7156104</td>\n",
       "    </tr>\n",
       "    <tr>\n",
       "      <th>2010-01-06</th>\n",
       "      <td>71.927780</td>\n",
       "      <td>72.752185</td>\n",
       "      <td>71.822657</td>\n",
       "      <td>72.304016</td>\n",
       "      <td>5863144</td>\n",
       "    </tr>\n",
       "    <tr>\n",
       "      <th>2010-01-07</th>\n",
       "      <td>71.678772</td>\n",
       "      <td>72.066073</td>\n",
       "      <td>71.324666</td>\n",
       "      <td>71.855823</td>\n",
       "      <td>6109268</td>\n",
       "    </tr>\n",
       "    <tr>\n",
       "      <th>2010-01-08</th>\n",
       "      <td>72.398094</td>\n",
       "      <td>72.436822</td>\n",
       "      <td>71.402171</td>\n",
       "      <td>71.413236</td>\n",
       "      <td>4390271</td>\n",
       "    </tr>\n",
       "    <tr>\n",
       "      <th>...</th>\n",
       "      <td>...</td>\n",
       "      <td>...</td>\n",
       "      <td>...</td>\n",
       "      <td>...</td>\n",
       "      <td>...</td>\n",
       "    </tr>\n",
       "    <tr>\n",
       "      <th>2020-12-23</th>\n",
       "      <td>96.835594</td>\n",
       "      <td>97.859446</td>\n",
       "      <td>96.710546</td>\n",
       "      <td>96.819964</td>\n",
       "      <td>2817819</td>\n",
       "    </tr>\n",
       "    <tr>\n",
       "      <th>2020-12-24</th>\n",
       "      <td>97.453041</td>\n",
       "      <td>97.773487</td>\n",
       "      <td>97.077896</td>\n",
       "      <td>97.695329</td>\n",
       "      <td>1842111</td>\n",
       "    </tr>\n",
       "    <tr>\n",
       "      <th>2020-12-28</th>\n",
       "      <td>97.554634</td>\n",
       "      <td>98.945809</td>\n",
       "      <td>97.273270</td>\n",
       "      <td>97.773470</td>\n",
       "      <td>3781499</td>\n",
       "    </tr>\n",
       "    <tr>\n",
       "      <th>2020-12-29</th>\n",
       "      <td>96.757469</td>\n",
       "      <td>98.070494</td>\n",
       "      <td>96.319790</td>\n",
       "      <td>97.968890</td>\n",
       "      <td>3647402</td>\n",
       "    </tr>\n",
       "    <tr>\n",
       "      <th>2020-12-30</th>\n",
       "      <td>97.179497</td>\n",
       "      <td>97.578094</td>\n",
       "      <td>96.624585</td>\n",
       "      <td>96.757454</td>\n",
       "      <td>3535794</td>\n",
       "    </tr>\n",
       "  </tbody>\n",
       "</table>\n",
       "<p>2768 rows × 5 columns</p>\n",
       "</div>"
      ],
      "text/plain": [
       "Price           Close       High        Low       Open   Volume\n",
       "Ticker            IBM        IBM        IBM        IBM      IBM\n",
       "Date                                                           \n",
       "2010-01-04  73.283333  73.571044  72.398070  72.580654  6438444\n",
       "2010-01-05  72.398094  72.951386  71.983126  72.857323  7156104\n",
       "2010-01-06  71.927780  72.752185  71.822657  72.304016  5863144\n",
       "2010-01-07  71.678772  72.066073  71.324666  71.855823  6109268\n",
       "2010-01-08  72.398094  72.436822  71.402171  71.413236  4390271\n",
       "...               ...        ...        ...        ...      ...\n",
       "2020-12-23  96.835594  97.859446  96.710546  96.819964  2817819\n",
       "2020-12-24  97.453041  97.773487  97.077896  97.695329  1842111\n",
       "2020-12-28  97.554634  98.945809  97.273270  97.773470  3781499\n",
       "2020-12-29  96.757469  98.070494  96.319790  97.968890  3647402\n",
       "2020-12-30  97.179497  97.578094  96.624585  96.757454  3535794\n",
       "\n",
       "[2768 rows x 5 columns]"
      ]
     },
     "execution_count": 27,
     "metadata": {},
     "output_type": "execute_result"
    }
   ],
   "source": [
    "df = yf.download(\"IBM\", start=\"2010-01-01\", end=\"2020-12-31\")\n",
    "df"
   ]
  },
  {
   "cell_type": "code",
   "execution_count": null,
   "id": "5b095af1",
   "metadata": {},
   "outputs": [],
   "source": []
  }
 ],
 "metadata": {
  "kernelspec": {
   "display_name": "Python 3",
   "language": "python",
   "name": "python3"
  },
  "language_info": {
   "codemirror_mode": {
    "name": "ipython",
    "version": 3
   },
   "file_extension": ".py",
   "mimetype": "text/x-python",
   "name": "python",
   "nbconvert_exporter": "python",
   "pygments_lexer": "ipython3",
   "version": "3.12.10"
  }
 },
 "nbformat": 4,
 "nbformat_minor": 5
}
