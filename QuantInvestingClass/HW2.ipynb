{
 "cells": [
  {
   "cell_type": "code",
   "execution_count": 25,
   "id": "c6f8f100",
   "metadata": {},
   "outputs": [],
   "source": [
    "import pandas as pd\n",
    "import numpy as np\n",
    "import matplotlib.pyplot as plt"
   ]
  },
  {
   "cell_type": "code",
   "execution_count": 14,
   "id": "16d65eb9",
   "metadata": {},
   "outputs": [],
   "source": [
    "spy = pd.read_csv('spy.csv', parse_dates=['Date'], index_col='Date')"
   ]
  },
  {
   "cell_type": "code",
   "execution_count": 15,
   "id": "e090f1c0",
   "metadata": {},
   "outputs": [],
   "source": [
    "spy_dailyreturns = spy['Adj Close'].pct_change().dropna()"
   ]
  },
  {
   "cell_type": "code",
   "execution_count": 16,
   "id": "bf872431",
   "metadata": {},
   "outputs": [
    {
     "data": {
      "application/vnd.microsoft.datawrangler.viewer.v0+json": {
       "columns": [
        {
         "name": "Date",
         "rawType": "datetime64[ns]",
         "type": "datetime"
        },
        {
         "name": "Adj Close",
         "rawType": "float64",
         "type": "float"
        }
       ],
       "ref": "24cc0ec7-f9cf-498a-86ce-54f662c9dc65",
       "rows": [
        [
         "1993-02-01 00:00:00",
         "0.0071121643448410765"
        ],
        [
         "1993-02-02 00:00:00",
         "0.002118585570006104"
        ],
        [
         "1993-02-03 00:00:00",
         "0.010571245837619925"
        ],
        [
         "1993-02-04 00:00:00",
         "0.004183905045419767"
        ],
        [
         "1993-02-05 00:00:00",
         "-0.0006949972989664932"
        ],
        [
         "1993-02-08 00:00:00",
         "0.0"
        ],
        [
         "1993-02-09 00:00:00",
         "-0.006949068143363379"
        ],
        [
         "1993-02-10 00:00:00",
         "0.0013997513955354979"
        ],
        [
         "1993-02-11 00:00:00",
         "0.004891693079773329"
        ],
        [
         "1993-02-12 00:00:00",
         "-0.007649002555722428"
        ],
        [
         "1993-02-16 00:00:00",
         "-0.025227867793280012"
        ],
        [
         "1993-02-17 00:00:00",
         "-0.00071939866122539"
        ],
        [
         "1993-02-18 00:00:00",
         "-0.000719512438585479"
        ],
        [
         "1993-02-19 00:00:00",
         "0.003600152547465818"
        ],
        [
         "1993-02-22 00:00:00",
         "0.0035869155677341613"
        ],
        [
         "1993-02-23 00:00:00",
         "-0.0007150841272847153"
        ],
        [
         "1993-02-24 00:00:00",
         "0.012875461290902113"
        ],
        [
         "1993-02-25 00:00:00",
         "0.002118585570006104"
        ],
        [
         "1993-02-26 00:00:00",
         "0.001410090611583481"
        ],
        [
         "1993-03-01 00:00:00",
         "-0.0028153799543397806"
        ],
        [
         "1993-03-02 00:00:00",
         "0.014819908782447655"
        ],
        [
         "1993-03-03 00:00:00",
         "0.00417254189065952"
        ],
        [
         "1993-03-04 00:00:00",
         "-0.005540220300937815"
        ],
        [
         "1993-03-05 00:00:00",
         "-0.0027854253153364317"
        ],
        [
         "1993-03-08 00:00:00",
         "0.02234615460656708"
        ],
        [
         "1993-03-09 00:00:00",
         "-0.003415065895696179"
        ],
        [
         "1993-03-10 00:00:00",
         "0.002056222828855203"
        ],
        [
         "1993-03-11 00:00:00",
         "-0.002736196716917383"
        ],
        [
         "1993-03-12 00:00:00",
         "-0.010287589791261764"
        ],
        [
         "1993-03-15 00:00:00",
         "0.004850700193444135"
        ],
        [
         "1993-03-16 00:00:00",
         "0.0"
        ],
        [
         "1993-03-17 00:00:00",
         "-0.006206879425664558"
        ],
        [
         "1993-03-18 00:00:00",
         "0.006245645393557764"
        ],
        [
         "1993-03-19 00:00:00",
         "-0.001513676492482463"
        ],
        [
         "1993-03-22 00:00:00",
         "-0.005551809902055949"
        ],
        [
         "1993-03-23 00:00:00",
         "0.002094497853279309"
        ],
        [
         "1993-03-24 00:00:00",
         "0.0"
        ],
        [
         "1993-03-25 00:00:00",
         "0.006267011937703293"
        ],
        [
         "1993-03-26 00:00:00",
         "-0.005536361526946032"
        ],
        [
         "1993-03-29 00:00:00",
         "0.004175231970841242"
        ],
        [
         "1993-03-30 00:00:00",
         "0.0027720954071037696"
        ],
        [
         "1993-03-31 00:00:00",
         "-0.0006913591848012324"
        ],
        [
         "1993-04-01 00:00:00",
         "-0.003457950176719571"
        ],
        [
         "1993-04-02 00:00:00",
         "-0.02081763815709403"
        ],
        [
         "1993-04-05 00:00:00",
         "0.004960290100674225"
        ],
        [
         "1993-04-06 00:00:00",
         "-0.002820849835079353"
        ],
        [
         "1993-04-07 00:00:00",
         "0.003535849106737876"
        ],
        [
         "1993-04-08 00:00:00",
         "-0.0014090569239770812"
        ],
        [
         "1993-04-12 00:00:00",
         "0.014114042215510603"
        ],
        [
         "1993-04-13 00:00:00",
         "0.002087771615060241"
        ]
       ],
       "shape": {
        "columns": 1,
        "rows": 7698
       }
      },
      "text/plain": [
       "Date\n",
       "1993-02-01    0.007112\n",
       "1993-02-02    0.002119\n",
       "1993-02-03    0.010571\n",
       "1993-02-04    0.004184\n",
       "1993-02-05   -0.000695\n",
       "                ...   \n",
       "2023-08-21    0.006506\n",
       "2023-08-22   -0.002709\n",
       "2023-08-23    0.011138\n",
       "2023-08-24   -0.013859\n",
       "2023-08-25    0.007050\n",
       "Name: Adj Close, Length: 7698, dtype: float64"
      ]
     },
     "execution_count": 16,
     "metadata": {},
     "output_type": "execute_result"
    }
   ],
   "source": [
    "spy_dailyreturns"
   ]
  },
  {
   "cell_type": "code",
   "execution_count": 17,
   "id": "ae008024",
   "metadata": {},
   "outputs": [
    {
     "data": {
      "text/plain": [
       "np.float64(0.00044288550166599473)"
      ]
     },
     "execution_count": 17,
     "metadata": {},
     "output_type": "execute_result"
    }
   ],
   "source": [
    "spy_dailyreturns.mean()"
   ]
  },
  {
   "cell_type": "code",
   "execution_count": 18,
   "id": "d4bc22a8",
   "metadata": {},
   "outputs": [
    {
     "data": {
      "application/vnd.microsoft.datawrangler.viewer.v0+json": {
       "columns": [
        {
         "name": "Date",
         "rawType": "int32",
         "type": "integer"
        },
        {
         "name": "Adj Close",
         "rawType": "float64",
         "type": "float"
        }
       ],
       "ref": "25244503-efbe-48f8-b051-60c0f8f246fb",
       "rows": [
        [
         "1993",
         "0.0003749578129979265"
        ],
        [
         "1994",
         "3.769620938134536e-05"
        ],
        [
         "1995",
         "0.0012947334180350425"
        ],
        [
         "1996",
         "0.0008328482744617218"
        ],
        [
         "1997",
         "0.0012219170401765265"
        ],
        [
         "1998",
         "0.0010996315772303076"
        ],
        [
         "1999",
         "0.0008013684507701494"
        ],
        [
         "2000",
         "-0.0002939943710865841"
        ],
        [
         "2001",
         "-0.0004077170828469946"
        ],
        [
         "2002",
         "-0.0008267203699361949"
        ],
        [
         "2003",
         "0.0010396418366940049"
        ],
        [
         "2004",
         "0.00042795952607023257"
        ],
        [
         "2005",
         "0.00020818934067927595"
        ],
        [
         "2006",
         "0.0006059601503651751"
        ],
        [
         "2007",
         "0.00025010706915311933"
        ],
        [
         "2008",
         "-0.001476620773352483"
        ],
        [
         "2009",
         "0.0010686281521202318"
        ],
        [
         "2010",
         "0.0006202817563449112"
        ],
        [
         "2011",
         "0.00017967471625109904"
        ],
        [
         "2012",
         "0.0006255556195880843"
        ],
        [
         "2013",
         "0.001135821315642175"
        ],
        [
         "2014",
         "0.000526398556702671"
        ],
        [
         "2015",
         "9.581922904365317e-05"
        ],
        [
         "2016",
         "0.0004835196572984698"
        ],
        [
         "2017",
         "0.0007919006284346631"
        ],
        [
         "2018",
         "-0.0001287542825381835"
        ],
        [
         "2019",
         "0.0011098952699243713"
        ],
        [
         "2020",
         "0.0008881103507272129"
        ],
        [
         "2021",
         "0.0010360040735575748"
        ],
        [
         "2022",
         "-0.0006826396817155578"
        ],
        [
         "2023",
         "0.000942888278607154"
        ]
       ],
       "shape": {
        "columns": 1,
        "rows": 31
       }
      },
      "text/plain": [
       "Date\n",
       "1993    0.000375\n",
       "1994    0.000038\n",
       "1995    0.001295\n",
       "1996    0.000833\n",
       "1997    0.001222\n",
       "1998    0.001100\n",
       "1999    0.000801\n",
       "2000   -0.000294\n",
       "2001   -0.000408\n",
       "2002   -0.000827\n",
       "2003    0.001040\n",
       "2004    0.000428\n",
       "2005    0.000208\n",
       "2006    0.000606\n",
       "2007    0.000250\n",
       "2008   -0.001477\n",
       "2009    0.001069\n",
       "2010    0.000620\n",
       "2011    0.000180\n",
       "2012    0.000626\n",
       "2013    0.001136\n",
       "2014    0.000526\n",
       "2015    0.000096\n",
       "2016    0.000484\n",
       "2017    0.000792\n",
       "2018   -0.000129\n",
       "2019    0.001110\n",
       "2020    0.000888\n",
       "2021    0.001036\n",
       "2022   -0.000683\n",
       "2023    0.000943\n",
       "Name: Adj Close, dtype: float64"
      ]
     },
     "execution_count": 18,
     "metadata": {},
     "output_type": "execute_result"
    }
   ],
   "source": [
    "spy_dailyreturns.groupby(spy_dailyreturns.index.year).mean()"
   ]
  },
  {
   "cell_type": "code",
   "execution_count": 30,
   "id": "3a93f99b",
   "metadata": {},
   "outputs": [],
   "source": [
    "#for average monthly return \n",
    "monthly_returns = (1+spy_dailyreturns).resample('ME').prod() -1 \n",
    "monthly_return\n",
    "grouped_returns = monthly_return.groupby(monthly_return.index.month).mean()\n",
    "\n",
    "\n",
    "grouped_returns1993_2003 = monthly_return['1993':'2003'].groupby(monthly_return['1993':'2003'].index.month).mean()\n",
    "grouped_returns2004_2023 = monthly_return['2004':'2013'].groupby(monthly_return['2004':'2013'].index.month).mean()"
   ]
  },
  {
   "cell_type": "code",
   "execution_count": 31,
   "id": "640b83d0",
   "metadata": {},
   "outputs": [
    {
     "data": {
      "text/plain": [
       "<Figure size 1000x600 with 0 Axes>"
      ]
     },
     "execution_count": 31,
     "metadata": {},
     "output_type": "execute_result"
    },
    {
     "data": {
      "image/png": "[encoded data removed]",
      "text/plain": [
       "<Figure size 640x480 with 1 Axes>"
      ]
     },
     "metadata": {},
     "output_type": "display_data"
    },
    {
     "data": {
      "text/plain": [
       "<Figure size 1000x600 with 0 Axes>"
      ]
     },
     "metadata": {},
     "output_type": "display_data"
    }
   ],
   "source": [
    "grouped_returns1993_2003.plot(kind='bar')\n",
    "plt.xlabel('Month')\n",
    "plt.ylabel('Average Monthly Return')\n",
    "plt.figure(figsize=(10,6))"
   ]
  },
  {
   "cell_type": "code",
   "execution_count": 32,
   "id": "46610812",
   "metadata": {},
   "outputs": [
    {
     "data": {
      "text/plain": [
       "<Figure size 1000x600 with 0 Axes>"
      ]
     },
     "execution_count": 32,
     "metadata": {},
     "output_type": "execute_result"
    },
    {
     "data": {
      "image/png": "[encoded data removed]",
      "text/plain": [
       "<Figure size 640x480 with 1 Axes>"
      ]
     },
     "metadata": {},
     "output_type": "display_data"
    },
    {
     "data": {
      "text/plain": [
       "<Figure size 1000x600 with 0 Axes>"
      ]
     },
     "metadata": {},
     "output_type": "display_data"
    }
   ],
   "source": [
    "grouped_returns2004_2023.plot(kind='bar')\n",
    "plt.xlabel('Month')\n",
    "plt.ylabel('Average Monthly Return')\n",
    "plt.figure(figsize=(10,6))"
   ]
  },
  {
   "cell_type": "markdown",
   "id": "fd84a33a",
   "metadata": {},
   "source": [
    "### Homework code starts"
   ]
  },
  {
   "cell_type": "code",
   "execution_count": 34,
   "id": "fe5cd9aa",
   "metadata": {},
   "outputs": [],
   "source": [
    "import pandas as pd\n",
    "import numpy as np      \n",
    "import matplotlib.pyplot as plt "
   ]
  },
  {
   "cell_type": "code",
   "execution_count": 35,
   "id": "f124a517",
   "metadata": {},
   "outputs": [],
   "source": [
    "spy_dailyreturns = spy['Close'].pct_change().dropna()"
   ]
  },
  {
   "cell_type": "code",
   "execution_count": 48,
   "id": "9ecdbf4c",
   "metadata": {},
   "outputs": [
    {
     "data": {
      "application/vnd.microsoft.datawrangler.viewer.v0+json": {
       "columns": [
        {
         "name": "Date",
         "rawType": "datetime64[ns]",
         "type": "datetime"
        },
        {
         "name": "Close",
         "rawType": "float64",
         "type": "float"
        }
       ],
       "ref": "abe288fc-7574-434d-b179-555bb9844056",
       "rows": [
        [
         "1993-02-01 00:00:00",
         "0.007112375533428139"
        ],
        [
         "1993-03-01 00:00:00",
         "-0.0028149190710766714"
        ],
        [
         "1993-04-01 00:00:00",
         "-0.003457814661134151"
        ],
        [
         "1993-06-01 00:00:00",
         "0.009675190048376026"
        ],
        [
         "1993-07-01 00:00:00",
         "-0.00277392510402219"
        ],
        [
         "1993-09-01 00:00:00",
         "-0.0013422818791946067"
        ],
        [
         "1993-10-01 00:00:00",
         "0.004761904761904745"
        ],
        [
         "1993-11-01 00:00:00",
         "0.0026684456304202353"
        ],
        [
         "1993-12-01 00:00:00",
         "0.0013486176668915384"
        ],
        [
         "1994-02-01 00:00:00",
         "-0.005184705119896327"
        ],
        [
         "1994-03-01 00:00:00",
         "-0.004005340453938633"
        ],
        [
         "1994-06-01 00:00:00",
         "0.004433833560709477"
        ],
        [
         "1994-07-01 00:00:00",
         "0.0021082220660575413"
        ],
        [
         "1994-08-01 00:00:00",
         "0.004765146358066685"
        ],
        [
         "1994-09-01 00:00:00",
         "-0.003278688524590123"
        ],
        [
         "1994-11-01 00:00:00",
         "-0.011187890753537322"
        ],
        [
         "1994-12-01 00:00:00",
         "-0.00993831391363953"
        ],
        [
         "1995-02-01 00:00:00",
         "-0.00033178500331787486"
        ],
        [
         "1995-03-01 00:00:00",
         "-0.006375518010838355"
        ],
        [
         "1995-05-01 00:00:00",
         "-0.0027256208358570344"
        ],
        [
         "1995-06-01 00:00:00",
         "-0.0026216137489076807"
        ],
        [
         "1995-08-01 00:00:00",
         "-0.0016694490818029983"
        ],
        [
         "1995-09-01 00:00:00",
         "0.004432132963988922"
        ],
        [
         "1995-11-01 00:00:00",
         "0.008038585209003246"
        ],
        [
         "1995-12-01 00:00:00",
         "0.0012827090815803466"
        ],
        [
         "1996-02-01 00:00:00",
         "0.0036809815950920033"
        ],
        [
         "1996-03-01 00:00:00",
         "0.015900195694716235"
        ],
        [
         "1996-04-01 00:00:00",
         "0.011594202898550732"
        ],
        [
         "1996-05-01 00:00:00",
         "0.0021505376344086446"
        ],
        [
         "1996-07-01 00:00:00",
         "0.008614668218859034"
        ],
        [
         "1996-08-01 00:00:00",
         "0.016577279375914244"
        ],
        [
         "1996-10-01 00:00:00",
         "0.005464480874316946"
        ],
        [
         "1996-11-01 00:00:00",
         "-0.0035288928098808903"
        ],
        [
         "1997-04-01 00:00:00",
         "0.00642620232172475"
        ],
        [
         "1997-05-01 00:00:00",
         "-0.001170503316426097"
        ],
        [
         "1997-07-01 00:00:00",
         "0.011677282377919429"
        ],
        [
         "1997-08-01 00:00:00",
         "-0.003934426229508237"
        ],
        [
         "1997-10-01 00:00:00",
         "0.013245033112582849"
        ],
        [
         "1997-12-01 00:00:00",
         "0.025816993464052196"
        ],
        [
         "1998-04-01 00:00:00",
         "0.008101193860147848"
        ],
        [
         "1998-05-01 00:00:00",
         "0.011226494527083908"
        ],
        [
         "1998-06-01 00:00:00",
         "0.0045858412152479655"
        ],
        [
         "1998-07-01 00:00:00",
         "0.01158301158301156"
        ],
        [
         "1998-09-01 00:00:00",
         "0.04231770833333326"
        ],
        [
         "1998-10-01 00:00:00",
         "-0.028869778869778817"
        ],
        [
         "1998-12-01 00:00:00",
         "0.012917115177610405"
        ],
        [
         "1999-02-01 00:00:00",
         "-0.0058751529987760565"
        ],
        [
         "1999-03-01 00:00:00",
         "0.002781992918563514"
        ],
        [
         "1999-04-01 00:00:00",
         "0.0075462512171373675"
        ],
        [
         "1999-06-01 00:00:00",
         "-0.0034801392055682223"
        ]
       ],
       "shape": {
        "columns": 1,
        "rows": 238
       }
      },
      "text/plain": [
       "Date\n",
       "1993-02-01    0.007112\n",
       "1993-03-01   -0.002815\n",
       "1993-04-01   -0.003458\n",
       "1993-06-01    0.009675\n",
       "1993-07-01   -0.002774\n",
       "                ...   \n",
       "2023-02-01    0.010628\n",
       "2023-03-01   -0.003836\n",
       "2023-05-01   -0.001010\n",
       "2023-06-01    0.009501\n",
       "2023-08-01   -0.002862\n",
       "Name: Close, Length: 238, dtype: float64"
      ]
     },
     "execution_count": 48,
     "metadata": {},
     "output_type": "execute_result"
    }
   ],
   "source": [
    "firstdayreturns = spy_dailyreturns[spy_dailyreturns.index.day == 1] # this is wrong because not every month has 1st as trading day \n",
    "firstdayreturns"
   ]
  },
  {
   "cell_type": "code",
   "execution_count": 67,
   "id": "04141a8d",
   "metadata": {},
   "outputs": [
    {
     "data": {
      "application/vnd.microsoft.datawrangler.viewer.v0+json": {
       "columns": [
        {
         "name": "Date",
         "rawType": "datetime64[ns]",
         "type": "datetime"
        },
        {
         "name": "Close",
         "rawType": "float64",
         "type": "float"
        }
       ],
       "ref": "ec796a30-23c0-41aa-b52f-adc431bab91f",
       "rows": [
        [
         "1993-02-01 00:00:00",
         "0.007112375533428139"
        ],
        [
         "1993-03-01 00:00:00",
         "-0.0028149190710766714"
        ],
        [
         "1993-04-01 00:00:00",
         "-0.003457814661134151"
        ],
        [
         "1993-05-03 00:00:00",
         "0.0063875088715401596"
        ],
        [
         "1993-06-01 00:00:00",
         "0.009675190048376026"
        ],
        [
         "1993-07-01 00:00:00",
         "-0.00277392510402219"
        ],
        [
         "1993-08-02 00:00:00",
         "0.0027874564459930973"
        ],
        [
         "1993-09-01 00:00:00",
         "-0.0013422818791946067"
        ],
        [
         "1993-10-01 00:00:00",
         "0.004761904761904745"
        ],
        [
         "1993-11-01 00:00:00",
         "0.0026684456304202353"
        ],
        [
         "1993-12-01 00:00:00",
         "0.0013486176668915384"
        ],
        [
         "1994-01-03 00:00:00",
         "-0.0026827632461435824"
        ],
        [
         "1994-02-01 00:00:00",
         "-0.005184705119896327"
        ],
        [
         "1994-03-01 00:00:00",
         "-0.004005340453938633"
        ],
        [
         "1994-04-01 00:00:00",
         "-0.015416958654519974"
        ],
        [
         "1994-05-02 00:00:00",
         "0.006237006237006293"
        ],
        [
         "1994-06-01 00:00:00",
         "0.004433833560709477"
        ],
        [
         "1994-07-01 00:00:00",
         "0.0021082220660575413"
        ],
        [
         "1994-08-01 00:00:00",
         "0.004765146358066685"
        ],
        [
         "1994-09-01 00:00:00",
         "-0.003278688524590123"
        ],
        [
         "1994-10-03 00:00:00",
         "-0.0023688663282571687"
        ],
        [
         "1994-11-01 00:00:00",
         "-0.011187890753537322"
        ],
        [
         "1994-12-01 00:00:00",
         "-0.00993831391363953"
        ],
        [
         "1995-01-02 00:00:00",
         "0.004801097393690057"
        ],
        [
         "1995-02-01 00:00:00",
         "-0.00033178500331787486"
        ],
        [
         "1995-03-01 00:00:00",
         "-0.006375518010838355"
        ],
        [
         "1995-04-03 00:00:00",
         "0.002494543186778886"
        ],
        [
         "1995-05-01 00:00:00",
         "-0.0027256208358570344"
        ],
        [
         "1995-06-01 00:00:00",
         "-0.0026216137489076807"
        ],
        [
         "1995-07-03 00:00:00",
         "0.0037334865020104413"
        ],
        [
         "1995-08-01 00:00:00",
         "-0.0016694490818029983"
        ],
        [
         "1995-09-01 00:00:00",
         "0.004432132963988922"
        ],
        [
         "1995-10-02 00:00:00",
         "-0.005076142131979711"
        ],
        [
         "1995-11-01 00:00:00",
         "0.008038585209003246"
        ],
        [
         "1995-12-01 00:00:00",
         "0.0012827090815803466"
        ],
        [
         "1996-01-01 00:00:00",
         "0.010673443456162612"
        ],
        [
         "1996-02-01 00:00:00",
         "0.0036809815950920033"
        ],
        [
         "1996-03-01 00:00:00",
         "0.015900195694716235"
        ],
        [
         "1996-04-01 00:00:00",
         "0.011594202898550732"
        ],
        [
         "1996-05-01 00:00:00",
         "0.0021505376344086446"
        ],
        [
         "1996-06-03 00:00:00",
         "0.002803738317757043"
        ],
        [
         "1996-07-01 00:00:00",
         "0.008614668218859034"
        ],
        [
         "1996-08-01 00:00:00",
         "0.016577279375914244"
        ],
        [
         "1996-09-02 00:00:00",
         "0.006457785218847212"
        ],
        [
         "1996-10-01 00:00:00",
         "0.005464480874316946"
        ],
        [
         "1996-11-01 00:00:00",
         "-0.0035288928098808903"
        ],
        [
         "1996-12-02 00:00:00",
         "0.0004110996916752985"
        ],
        [
         "1997-01-01 00:00:00",
         "0.002539145154464739"
        ],
        [
         "1997-02-03 00:00:00",
         "0.002989238740534139"
        ],
        [
         "1997-03-03 00:00:00",
         "0.006711409395973256"
        ]
       ],
       "shape": {
        "columns": 1,
        "rows": 367
       }
      },
      "text/plain": [
       "Date\n",
       "1993-02-01    0.007112\n",
       "1993-03-01   -0.002815\n",
       "1993-04-01   -0.003458\n",
       "1993-05-03    0.006388\n",
       "1993-06-01    0.009675\n",
       "                ...   \n",
       "2023-04-03    0.003811\n",
       "2023-05-01   -0.001010\n",
       "2023-06-01    0.009501\n",
       "2023-07-03    0.001151\n",
       "2023-08-01   -0.002862\n",
       "Freq: BMS, Name: Close, Length: 367, dtype: float64"
      ]
     },
     "metadata": {},
     "output_type": "display_data"
    },
    {
     "data": {
      "application/vnd.microsoft.datawrangler.viewer.v0+json": {
       "columns": [
        {
         "name": "Date",
         "rawType": "int32",
         "type": "integer"
        },
        {
         "name": "Close",
         "rawType": "float64",
         "type": "float"
        }
       ],
       "ref": "c4f5dff2-60c8-4733-a335-de54c0382c79",
       "rows": [
        [
         "1993",
         "0.002213868931193302"
        ],
        [
         "1994",
         "-0.0030432765643902218"
        ],
        [
         "1995",
         "0.0004985354603623537"
        ],
        [
         "1996",
         "0.006733293347201593"
        ],
        [
         "1997",
         "0.009453804042928754"
        ],
        [
         "1998",
         "0.007859414307403325"
        ],
        [
         "1999",
         "0.002880921713036407"
        ],
        [
         "2000",
         "0.005233937317916502"
        ],
        [
         "2001",
         "0.0010072159181121105"
        ],
        [
         "2002",
         "9.532971597335053e-05"
        ],
        [
         "2003",
         "0.008034951810878987"
        ],
        [
         "2004",
         "0.004190549638753982"
        ],
        [
         "2005",
         "0.002280608273192366"
        ],
        [
         "2006",
         "0.0022123716118187995"
        ],
        [
         "2007",
         "0.0012637398006919616"
        ],
        [
         "2008",
         "-0.003582986422239568"
        ],
        [
         "2009",
         "0.002041651518881221"
        ],
        [
         "2010",
         "0.009976526738417682"
        ],
        [
         "2011",
         "-0.005546557078015574"
        ],
        [
         "2012",
         "0.002303228141886863"
        ],
        [
         "2013",
         "0.005137125266523916"
        ],
        [
         "2014",
         "-0.0040049261909967755"
        ],
        [
         "2015",
         "0.0021895582354713263"
        ],
        [
         "2016",
         "0.0011640159159770995"
        ],
        [
         "2017",
         "0.003308356207843375"
        ],
        [
         "2018",
         "0.0006328194357441697"
        ],
        [
         "2019",
         "-0.0005863873180900666"
        ],
        [
         "2020",
         "0.00371598289877866"
        ],
        [
         "2021",
         "0.003817827386987984"
        ],
        [
         "2022",
         "0.002510358462030617"
        ],
        [
         "2023",
         "0.001646594305878768"
        ]
       ],
       "shape": {
        "columns": 1,
        "rows": 31
       }
      },
      "text/plain": [
       "Date\n",
       "1993    0.002214\n",
       "1994   -0.003043\n",
       "1995    0.000499\n",
       "1996    0.006733\n",
       "1997    0.009454\n",
       "1998    0.007859\n",
       "1999    0.002881\n",
       "2000    0.005234\n",
       "2001    0.001007\n",
       "2002    0.000095\n",
       "2003    0.008035\n",
       "2004    0.004191\n",
       "2005    0.002281\n",
       "2006    0.002212\n",
       "2007    0.001264\n",
       "2008   -0.003583\n",
       "2009    0.002042\n",
       "2010    0.009977\n",
       "2011   -0.005547\n",
       "2012    0.002303\n",
       "2013    0.005137\n",
       "2014   -0.004005\n",
       "2015    0.002190\n",
       "2016    0.001164\n",
       "2017    0.003308\n",
       "2018    0.000633\n",
       "2019   -0.000586\n",
       "2020    0.003716\n",
       "2021    0.003818\n",
       "2022    0.002510\n",
       "2023    0.001647\n",
       "Name: Close, dtype: float64"
      ]
     },
     "metadata": {},
     "output_type": "display_data"
    },
    {
     "name": "stdout",
     "output_type": "stream",
     "text": [
      "0.245%\n"
     ]
    }
   ],
   "source": [
    "firstdayreturns = spy_dailyreturns.resample('BMS').first()\n",
    "display(firstdayreturns)\n",
    "display(firstdayreturns.groupby(firstdayreturns.index.year).mean())\n",
    "print(\"{:.3%}\".format(firstdayreturns.mean()))\n",
    "        "
   ]
  },
  {
   "cell_type": "code",
   "execution_count": 66,
   "id": "56f05288",
   "metadata": {},
   "outputs": [
    {
     "data": {
      "application/vnd.microsoft.datawrangler.viewer.v0+json": {
       "columns": [
        {
         "name": "Date",
         "rawType": "datetime64[ns]",
         "type": "datetime"
        },
        {
         "name": "Close",
         "rawType": "float64",
         "type": "float"
        }
       ],
       "ref": "a96b9000-a628-4429-af3c-3e691a63069d",
       "rows": [
        [
         "1993-02-26 00:00:00",
         "0.012875536480686733"
        ],
        [
         "1993-03-31 00:00:00",
         "0.0041753653444676075"
        ],
        [
         "1993-04-30 00:00:00",
         "-0.002136752136752129"
        ],
        [
         "1993-05-31 00:00:00",
         "0.012491325468424685"
        ],
        [
         "1993-06-30 00:00:00",
         "0.011165387299371998"
        ],
        [
         "1993-07-30 00:00:00",
         "-0.0020862308762169546"
        ],
        [
         "1993-08-31 00:00:00",
         "-0.0006752194463200967"
        ],
        [
         "1993-09-30 00:00:00",
         "-0.002025658338960179"
        ],
        [
         "1993-10-29 00:00:00",
         "0.0006724949562877391"
        ],
        [
         "1993-11-30 00:00:00",
         "0.0006724949562877391"
        ],
        [
         "1993-12-31 00:00:00",
         "-0.0013271400132713884"
        ],
        [
         "1994-01-31 00:00:00",
         "0.009247027741083214"
        ],
        [
         "1994-02-28 00:00:00",
         "-0.013236267372600974"
        ],
        [
         "1994-03-31 00:00:00",
         "-0.01970108695652173"
        ],
        [
         "1994-04-29 00:00:00",
         "-0.0010341261633919352"
        ],
        [
         "1994-05-31 00:00:00",
         "0.0006823609689525778"
        ],
        [
         "1994-06-30 00:00:00",
         "-0.004879749041477921"
        ],
        [
         "1994-07-29 00:00:00",
         "0.0"
        ],
        [
         "1994-08-31 00:00:00",
         "-0.000655307994757548"
        ],
        [
         "1994-09-30 00:00:00",
         "0.007793968146390995"
        ],
        [
         "1994-10-31 00:00:00",
         "0.006062647356012141"
        ],
        [
         "1994-11-30 00:00:00",
         "0.0044673539518900185"
        ],
        [
         "1994-12-30 00:00:00",
         "-0.005060728744939236"
        ],
        [
         "1995-01-31 00:00:00",
         "0.003996003996004083"
        ],
        [
         "1995-02-28 00:00:00",
         "0.002557544757033181"
        ],
        [
         "1995-03-31 00:00:00",
         "-0.00030988534242326615"
        ],
        [
         "1995-04-28 00:00:00",
         "0.0009129640900791269"
        ],
        [
         "1995-05-31 00:00:00",
         "-0.011460476050543678"
        ],
        [
         "1995-06-30 00:00:00",
         "0.005184331797235098"
        ],
        [
         "1995-07-31 00:00:00",
         "0.008342602892102313"
        ],
        [
         "1995-08-31 00:00:00",
         "0.002506963788300842"
        ],
        [
         "1995-09-29 00:00:00",
         "-0.0008053691275168307"
        ],
        [
         "1995-10-31 00:00:00",
         "0.007575757575757569"
        ],
        [
         "1995-11-30 00:00:00",
         "0.010616261004660732"
        ],
        [
         "1995-12-29 00:00:00",
         "-0.000508130081300795"
        ],
        [
         "1996-01-31 00:00:00",
         "0.004017072558373025"
        ],
        [
         "1996-02-29 00:00:00",
         "-0.0031250000000000444"
        ],
        [
         "1996-03-29 00:00:00",
         "-0.009086561453849784"
        ],
        [
         "1996-04-30 00:00:00",
         "0.002153625269203152"
        ],
        [
         "1996-05-31 00:00:00",
         "-0.006714517249363228"
        ],
        [
         "1996-06-28 00:00:00",
         "-0.006777284412245899"
        ],
        [
         "1996-07-31 00:00:00",
         "-0.01103482099068176"
        ],
        [
         "1996-08-30 00:00:00",
         "-0.0016378100140383989"
        ],
        [
         "1996-09-30 00:00:00",
         "-0.000455166135639562"
        ],
        [
         "1996-10-31 00:00:00",
         "0.008053691275167862"
        ],
        [
         "1996-11-29 00:00:00",
         "-0.003284072249589487"
        ],
        [
         "1996-12-31 00:00:00",
         "0.0012371134020618957"
        ],
        [
         "1997-01-31 00:00:00",
         "0.009771986970684043"
        ],
        [
         "1997-02-28 00:00:00",
         "-0.009790746784411608"
        ],
        [
         "1997-03-31 00:00:00",
         "0.00436507936507935"
        ]
       ],
       "shape": {
        "columns": 1,
        "rows": 367
       }
      },
      "text/plain": [
       "Date\n",
       "1993-02-26    0.012876\n",
       "1993-03-31    0.004175\n",
       "1993-04-30   -0.002137\n",
       "1993-05-31    0.012491\n",
       "1993-06-30    0.011165\n",
       "                ...   \n",
       "2023-04-28   -0.004236\n",
       "2023-05-31    0.012951\n",
       "2023-06-30    0.000504\n",
       "2023-07-31   -0.006630\n",
       "2023-08-31    0.011138\n",
       "Freq: BME, Name: Close, Length: 367, dtype: float64"
      ]
     },
     "metadata": {},
     "output_type": "display_data"
    },
    {
     "data": {
      "application/vnd.microsoft.datawrangler.viewer.v0+json": {
       "columns": [
        {
         "name": "Date",
         "rawType": "int32",
         "type": "integer"
        },
        {
         "name": "Close",
         "rawType": "float64",
         "type": "float"
        }
       ],
       "ref": "49e25bab-b8c7-41cb-8189-b9a325dc898f",
       "rows": [
        [
         "1993",
         "0.003072873063091432"
        ],
        [
         "1994",
         "-0.0013594923424466998"
        ],
        [
         "1995",
         "0.002384047441615698"
        ],
        [
         "1996",
         "-0.002221144166716852"
        ],
        [
         "1997",
         "0.003859256966906884"
        ],
        [
         "1998",
         "-0.0005462603534311383"
        ],
        [
         "1999",
         "0.0006972176336318137"
        ],
        [
         "2000",
         "-0.00023510637510675467"
        ],
        [
         "2001",
         "-0.00431500053200327"
        ],
        [
         "2002",
         "-0.005199426321370095"
        ],
        [
         "2003",
         "0.0031490898361533812"
        ],
        [
         "2004",
         "0.0014680959265876887"
        ],
        [
         "2005",
         "0.0013482801733866363"
        ],
        [
         "2006",
         "0.0030186856456097624"
        ],
        [
         "2007",
         "0.0031861652908986384"
        ],
        [
         "2008",
         "0.0006108867366863557"
        ],
        [
         "2009",
         "-0.0012336974181215432"
        ],
        [
         "2010",
         "0.0014548306465205774"
        ],
        [
         "2011",
         "0.005934101988130214"
        ],
        [
         "2012",
         "0.0039643872100410815"
        ],
        [
         "2013",
         "0.0025248204965328167"
        ],
        [
         "2014",
         "-0.0006319003818876604"
        ],
        [
         "2015",
         "0.0024596791325965095"
        ],
        [
         "2016",
         "0.0020050130538449376"
        ],
        [
         "2017",
         "0.002638825014917273"
        ],
        [
         "2018",
         "-7.285055793066857e-05"
        ],
        [
         "2019",
         "-0.0004553729951641272"
        ],
        [
         "2020",
         "-0.004524554050965505"
        ],
        [
         "2021",
         "-0.003940689648178665"
        ],
        [
         "2022",
         "0.0025123299472646077"
        ],
        [
         "2023",
         "0.002484678115947367"
        ]
       ],
       "shape": {
        "columns": 1,
        "rows": 31
       }
      },
      "text/plain": [
       "Date\n",
       "1993    0.003073\n",
       "1994   -0.001359\n",
       "1995    0.002384\n",
       "1996   -0.002221\n",
       "1997    0.003859\n",
       "1998   -0.000546\n",
       "1999    0.000697\n",
       "2000   -0.000235\n",
       "2001   -0.004315\n",
       "2002   -0.005199\n",
       "2003    0.003149\n",
       "2004    0.001468\n",
       "2005    0.001348\n",
       "2006    0.003019\n",
       "2007    0.003186\n",
       "2008    0.000611\n",
       "2009   -0.001234\n",
       "2010    0.001455\n",
       "2011    0.005934\n",
       "2012    0.003964\n",
       "2013    0.002525\n",
       "2014   -0.000632\n",
       "2015    0.002460\n",
       "2016    0.002005\n",
       "2017    0.002639\n",
       "2018   -0.000073\n",
       "2019   -0.000455\n",
       "2020   -0.004525\n",
       "2021   -0.003941\n",
       "2022    0.002512\n",
       "2023    0.002485\n",
       "Name: Close, dtype: float64"
      ]
     },
     "metadata": {},
     "output_type": "display_data"
    },
    {
     "name": "stdout",
     "output_type": "stream",
     "text": [
      "0.075%\n"
     ]
    }
   ],
   "source": [
    "thirdlastdayreturns = spy_dailyreturns.resample('BME').apply(lambda x: x.iloc[-3])\n",
    "display(thirdlastdayreturns)\n",
    "display(thirdlastdayreturns.groupby(thirdlastdayreturns.index.year).mean())\n",
    "print(\"{:.3%}\".format(thirdlastdayreturns.mean()))"
   ]
  },
  {
   "cell_type": "code",
   "execution_count": 71,
   "id": "774b01b8",
   "metadata": {},
   "outputs": [
    {
     "data": {
      "application/vnd.microsoft.datawrangler.viewer.v0+json": {
       "columns": [
        {
         "name": "Date",
         "rawType": "datetime64[ns]",
         "type": "datetime"
        },
        {
         "name": "Open",
         "rawType": "float64",
         "type": "float"
        },
        {
         "name": "High",
         "rawType": "float64",
         "type": "float"
        },
        {
         "name": "Low",
         "rawType": "float64",
         "type": "float"
        },
        {
         "name": "Close",
         "rawType": "float64",
         "type": "float"
        },
        {
         "name": "Adj Close",
         "rawType": "float64",
         "type": "float"
        },
        {
         "name": "Volume",
         "rawType": "float64",
         "type": "float"
        }
       ],
       "ref": "28d26778-b171-480b-8d20-cc84ffee4ee9",
       "rows": [
        [
         "1960-01-04 00:00:00",
         "4.52",
         "4.52",
         "4.52",
         "4.52",
         "4.52",
         "0.0"
        ],
        [
         "1960-01-05 00:00:00",
         "4.55",
         "4.55",
         "4.55",
         "4.55",
         "4.55",
         "0.0"
        ],
        [
         "1960-01-06 00:00:00",
         "4.68",
         "4.68",
         "4.68",
         "4.68",
         "4.68",
         "0.0"
        ],
        [
         "1960-01-07 00:00:00",
         "4.63",
         "4.63",
         "4.63",
         "4.63",
         "4.63",
         "0.0"
        ],
        [
         "1960-01-08 00:00:00",
         "4.59",
         "4.59",
         "4.59",
         "4.59",
         "4.59",
         "0.0"
        ],
        [
         "1960-01-10 00:00:00",
         null,
         null,
         null,
         null,
         null,
         null
        ],
        [
         "1960-01-11 00:00:00",
         "4.54",
         "4.54",
         "4.54",
         "4.54",
         "4.54",
         "0.0"
        ],
        [
         "1960-01-12 00:00:00",
         "4.54",
         "4.54",
         "4.54",
         "4.54",
         "4.54",
         "0.0"
        ],
        [
         "1960-01-13 00:00:00",
         "4.56",
         "4.56",
         "4.56",
         "4.56",
         "4.56",
         "0.0"
        ],
        [
         "1960-01-14 00:00:00",
         "4.51",
         "4.51",
         "4.51",
         "4.51",
         "4.51",
         "0.0"
        ],
        [
         "1960-01-15 00:00:00",
         "4.49",
         "4.49",
         "4.49",
         "4.49",
         "4.49",
         "0.0"
        ],
        [
         "1960-01-17 00:00:00",
         null,
         null,
         null,
         null,
         null,
         null
        ],
        [
         "1960-01-18 00:00:00",
         "4.37",
         "4.37",
         "4.37",
         "4.37",
         "4.37",
         "0.0"
        ],
        [
         "1960-01-19 00:00:00",
         "4.31",
         "4.31",
         "4.31",
         "4.31",
         "4.31",
         "0.0"
        ],
        [
         "1960-01-20 00:00:00",
         "4.3",
         "4.3",
         "4.3",
         "4.3",
         "4.3",
         "0.0"
        ],
        [
         "1960-01-21 00:00:00",
         "4.27",
         "4.27",
         "4.27",
         "4.27",
         "4.27",
         "0.0"
        ],
        [
         "1960-01-22 00:00:00",
         "4.12",
         "4.12",
         "4.12",
         "4.12",
         "4.12",
         "0.0"
        ],
        [
         "1960-01-24 00:00:00",
         null,
         null,
         null,
         null,
         null,
         null
        ],
        [
         "1960-01-25 00:00:00",
         "4.12",
         "4.12",
         "4.12",
         "4.12",
         "4.12",
         "0.0"
        ],
        [
         "1960-01-26 00:00:00",
         "4.04",
         "4.04",
         "4.04",
         "4.04",
         "4.04",
         "0.0"
        ],
        [
         "1960-01-27 00:00:00",
         "3.99",
         "3.99",
         "3.99",
         "3.99",
         "3.99",
         "0.0"
        ],
        [
         "1960-01-28 00:00:00",
         "3.92",
         "3.92",
         "3.92",
         "3.92",
         "3.92",
         "0.0"
        ],
        [
         "1960-01-29 00:00:00",
         "3.99",
         "3.99",
         "3.99",
         "3.99",
         "3.99",
         "0.0"
        ],
        [
         "1960-01-31 00:00:00",
         null,
         null,
         null,
         null,
         null,
         null
        ],
        [
         "1960-02-01 00:00:00",
         "4.0",
         "4.0",
         "4.0",
         "4.0",
         "4.0",
         "0.0"
        ],
        [
         "1960-02-02 00:00:00",
         "3.96",
         "3.96",
         "3.96",
         "3.96",
         "3.96",
         "0.0"
        ],
        [
         "1960-02-03 00:00:00",
         "4.0",
         "4.0",
         "4.0",
         "4.0",
         "4.0",
         "0.0"
        ],
        [
         "1960-02-04 00:00:00",
         "3.95",
         "3.95",
         "3.95",
         "3.95",
         "3.95",
         "0.0"
        ],
        [
         "1960-02-05 00:00:00",
         "3.8",
         "3.8",
         "3.8",
         "3.8",
         "3.8",
         "0.0"
        ],
        [
         "1960-02-07 00:00:00",
         null,
         null,
         null,
         null,
         null,
         null
        ],
        [
         "1960-02-08 00:00:00",
         "3.55",
         "3.55",
         "3.55",
         "3.55",
         "3.55",
         "0.0"
        ],
        [
         "1960-02-09 00:00:00",
         "3.58",
         "3.58",
         "3.58",
         "3.58",
         "3.58",
         "0.0"
        ],
        [
         "1960-02-10 00:00:00",
         "3.7",
         "3.7",
         "3.7",
         "3.7",
         "3.7",
         "0.0"
        ],
        [
         "1960-02-11 00:00:00",
         "3.85",
         "3.85",
         "3.85",
         "3.85",
         "3.85",
         "0.0"
        ],
        [
         "1960-02-12 00:00:00",
         null,
         null,
         null,
         null,
         null,
         null
        ],
        [
         "1960-02-14 00:00:00",
         null,
         null,
         null,
         null,
         null,
         null
        ],
        [
         "1960-02-15 00:00:00",
         "3.96",
         "3.96",
         "3.96",
         "3.96",
         "3.96",
         "0.0"
        ],
        [
         "1960-02-16 00:00:00",
         "4.04",
         "4.04",
         "4.04",
         "4.04",
         "4.04",
         "0.0"
        ],
        [
         "1960-02-17 00:00:00",
         "4.07",
         "4.07",
         "4.07",
         "4.07",
         "4.07",
         "0.0"
        ],
        [
         "1960-02-18 00:00:00",
         "4.04",
         "4.04",
         "4.04",
         "4.04",
         "4.04",
         "0.0"
        ],
        [
         "1960-02-19 00:00:00",
         "4.08",
         "4.08",
         "4.08",
         "4.08",
         "4.08",
         "0.0"
        ],
        [
         "1960-02-21 00:00:00",
         null,
         null,
         null,
         null,
         null,
         null
        ],
        [
         "1960-02-22 00:00:00",
         null,
         null,
         null,
         null,
         null,
         null
        ],
        [
         "1960-02-23 00:00:00",
         "4.06",
         "4.06",
         "4.06",
         "4.06",
         "4.06",
         "0.0"
        ],
        [
         "1960-02-24 00:00:00",
         "4.13",
         "4.13",
         "4.13",
         "4.13",
         "4.13",
         "0.0"
        ],
        [
         "1960-02-25 00:00:00",
         "4.17",
         "4.17",
         "4.17",
         "4.17",
         "4.17",
         "0.0"
        ],
        [
         "1960-02-26 00:00:00",
         "4.19",
         "4.19",
         "4.19",
         "4.19",
         "4.19",
         "0.0"
        ],
        [
         "1960-02-28 00:00:00",
         null,
         null,
         null,
         null,
         null,
         null
        ],
        [
         "1960-02-29 00:00:00",
         "4.19",
         "4.19",
         "4.19",
         "4.19",
         "4.19",
         "0.0"
        ],
        [
         "1960-03-01 00:00:00",
         "4.09",
         "4.09",
         "4.09",
         "4.09",
         "4.09",
         "0.0"
        ]
       ],
       "shape": {
        "columns": 6,
        "rows": 19787
       }
      },
      "text/html": [
       "<div>\n",
       "<style scoped>\n",
       "    .dataframe tbody tr th:only-of-type {\n",
       "        vertical-align: middle;\n",
       "    }\n",
       "\n",
       "    .dataframe tbody tr th {\n",
       "        vertical-align: top;\n",
       "    }\n",
       "\n",
       "    .dataframe thead th {\n",
       "        text-align: right;\n",
       "    }\n",
       "</style>\n",
       "<table border=\"1\" class=\"dataframe\">\n",
       "  <thead>\n",
       "    <tr style=\"text-align: right;\">\n",
       "      <th></th>\n",
       "      <th>Open</th>\n",
       "      <th>High</th>\n",
       "      <th>Low</th>\n",
       "      <th>Close</th>\n",
       "      <th>Adj Close</th>\n",
       "      <th>Volume</th>\n",
       "    </tr>\n",
       "    <tr>\n",
       "      <th>Date</th>\n",
       "      <th></th>\n",
       "      <th></th>\n",
       "      <th></th>\n",
       "      <th></th>\n",
       "      <th></th>\n",
       "      <th></th>\n",
       "    </tr>\n",
       "  </thead>\n",
       "  <tbody>\n",
       "    <tr>\n",
       "      <th>1960-01-04</th>\n",
       "      <td>4.520</td>\n",
       "      <td>4.520</td>\n",
       "      <td>4.520</td>\n",
       "      <td>4.520</td>\n",
       "      <td>4.520</td>\n",
       "      <td>0.0</td>\n",
       "    </tr>\n",
       "    <tr>\n",
       "      <th>1960-01-05</th>\n",
       "      <td>4.550</td>\n",
       "      <td>4.550</td>\n",
       "      <td>4.550</td>\n",
       "      <td>4.550</td>\n",
       "      <td>4.550</td>\n",
       "      <td>0.0</td>\n",
       "    </tr>\n",
       "    <tr>\n",
       "      <th>1960-01-06</th>\n",
       "      <td>4.680</td>\n",
       "      <td>4.680</td>\n",
       "      <td>4.680</td>\n",
       "      <td>4.680</td>\n",
       "      <td>4.680</td>\n",
       "      <td>0.0</td>\n",
       "    </tr>\n",
       "    <tr>\n",
       "      <th>1960-01-07</th>\n",
       "      <td>4.630</td>\n",
       "      <td>4.630</td>\n",
       "      <td>4.630</td>\n",
       "      <td>4.630</td>\n",
       "      <td>4.630</td>\n",
       "      <td>0.0</td>\n",
       "    </tr>\n",
       "    <tr>\n",
       "      <th>1960-01-08</th>\n",
       "      <td>4.590</td>\n",
       "      <td>4.590</td>\n",
       "      <td>4.590</td>\n",
       "      <td>4.590</td>\n",
       "      <td>4.590</td>\n",
       "      <td>0.0</td>\n",
       "    </tr>\n",
       "    <tr>\n",
       "      <th>...</th>\n",
       "      <td>...</td>\n",
       "      <td>...</td>\n",
       "      <td>...</td>\n",
       "      <td>...</td>\n",
       "      <td>...</td>\n",
       "      <td>...</td>\n",
       "    </tr>\n",
       "    <tr>\n",
       "      <th>2023-09-05</th>\n",
       "      <td>5.273</td>\n",
       "      <td>5.285</td>\n",
       "      <td>5.248</td>\n",
       "      <td>5.278</td>\n",
       "      <td>5.278</td>\n",
       "      <td>0.0</td>\n",
       "    </tr>\n",
       "    <tr>\n",
       "      <th>2023-09-06</th>\n",
       "      <td>5.308</td>\n",
       "      <td>5.310</td>\n",
       "      <td>5.200</td>\n",
       "      <td>5.300</td>\n",
       "      <td>5.300</td>\n",
       "      <td>0.0</td>\n",
       "    </tr>\n",
       "    <tr>\n",
       "      <th>2023-09-07</th>\n",
       "      <td>5.293</td>\n",
       "      <td>5.293</td>\n",
       "      <td>5.283</td>\n",
       "      <td>5.283</td>\n",
       "      <td>5.283</td>\n",
       "      <td>0.0</td>\n",
       "    </tr>\n",
       "    <tr>\n",
       "      <th>2023-09-08</th>\n",
       "      <td>5.283</td>\n",
       "      <td>5.293</td>\n",
       "      <td>5.275</td>\n",
       "      <td>5.293</td>\n",
       "      <td>5.293</td>\n",
       "      <td>0.0</td>\n",
       "    </tr>\n",
       "    <tr>\n",
       "      <th>2023-09-10</th>\n",
       "      <td>NaN</td>\n",
       "      <td>NaN</td>\n",
       "      <td>NaN</td>\n",
       "      <td>NaN</td>\n",
       "      <td>NaN</td>\n",
       "      <td>NaN</td>\n",
       "    </tr>\n",
       "  </tbody>\n",
       "</table>\n",
       "<p>19787 rows × 6 columns</p>\n",
       "</div>"
      ],
      "text/plain": [
       "             Open   High    Low  Close  Adj Close  Volume\n",
       "Date                                                     \n",
       "1960-01-04  4.520  4.520  4.520  4.520      4.520     0.0\n",
       "1960-01-05  4.550  4.550  4.550  4.550      4.550     0.0\n",
       "1960-01-06  4.680  4.680  4.680  4.680      4.680     0.0\n",
       "1960-01-07  4.630  4.630  4.630  4.630      4.630     0.0\n",
       "1960-01-08  4.590  4.590  4.590  4.590      4.590     0.0\n",
       "...           ...    ...    ...    ...        ...     ...\n",
       "2023-09-05  5.273  5.285  5.248  5.278      5.278     0.0\n",
       "2023-09-06  5.308  5.310  5.200  5.300      5.300     0.0\n",
       "2023-09-07  5.293  5.293  5.283  5.283      5.283     0.0\n",
       "2023-09-08  5.283  5.293  5.275  5.293      5.293     0.0\n",
       "2023-09-10    NaN    NaN    NaN    NaN        NaN     NaN\n",
       "\n",
       "[19787 rows x 6 columns]"
      ]
     },
     "execution_count": 71,
     "metadata": {},
     "output_type": "execute_result"
    }
   ],
   "source": [
    "irx = pd.read_csv('^IRX.csv', parse_dates=['Date'], index_col='Date')\n",
    "irx"
   ]
  },
  {
   "cell_type": "code",
   "execution_count": 100,
   "id": "0eaefbe4",
   "metadata": {},
   "outputs": [
    {
     "name": "stderr",
     "output_type": "stream",
     "text": [
      "C:\\Users\\YOGA\\AppData\\Local\\Temp\\ipykernel_18968\\3120363475.py:3: FutureWarning: Series.fillna with 'method' is deprecated and will raise in a future version. Use obj.ffill() or obj.bfill() instead.\n",
      "  spyirx['Close_IRX'] = spyirx['Close_IRX'].fillna(method='ffill')\n"
     ]
    },
    {
     "data": {
      "application/vnd.microsoft.datawrangler.viewer.v0+json": {
       "columns": [
        {
         "name": "Date",
         "rawType": "datetime64[ns]",
         "type": "datetime"
        },
        {
         "name": "Open",
         "rawType": "float64",
         "type": "float"
        },
        {
         "name": "High",
         "rawType": "float64",
         "type": "float"
        },
        {
         "name": "Low",
         "rawType": "float64",
         "type": "float"
        },
        {
         "name": "Close_x",
         "rawType": "float64",
         "type": "float"
        },
        {
         "name": "Adj Close",
         "rawType": "float64",
         "type": "float"
        },
        {
         "name": "Volume",
         "rawType": "float64",
         "type": "float"
        },
        {
         "name": "Close_IRX",
         "rawType": "float64",
         "type": "float"
        }
       ],
       "ref": "c4bd5a33-d070-4d65-89fd-91517863458b",
       "rows": [
        [
         "1993-01-29 00:00:00",
         "43.96875",
         "43.96875",
         "43.75",
         "43.9375",
         "25.029371",
         "1003200.0",
         "2.9"
        ],
        [
         "1993-02-01 00:00:00",
         "43.96875",
         "44.25",
         "43.96875",
         "44.25",
         "25.207384",
         "480500.0",
         "2.9"
        ],
        [
         "1993-02-02 00:00:00",
         "44.21875",
         "44.375",
         "44.125",
         "44.34375",
         "25.260788",
         "201300.0",
         "2.96"
        ],
        [
         "1993-02-03 00:00:00",
         "44.40625",
         "44.84375",
         "44.375",
         "44.8125",
         "25.527826",
         "529400.0",
         "2.93"
        ],
        [
         "1993-02-04 00:00:00",
         "44.96875",
         "45.09375",
         "44.46875",
         "45.0",
         "25.634632",
         "531500.0",
         "2.9"
        ],
        [
         "1993-02-05 00:00:00",
         "44.96875",
         "45.0625",
         "44.71875",
         "44.96875",
         "25.616816",
         "492100.0",
         "2.9"
        ],
        [
         "1993-02-08 00:00:00",
         "44.96875",
         "45.125",
         "44.90625",
         "44.96875",
         "25.616816",
         "596100.0",
         "2.92"
        ],
        [
         "1993-02-09 00:00:00",
         "44.8125",
         "44.8125",
         "44.5625",
         "44.65625",
         "25.438803",
         "122100.0",
         "2.93"
        ],
        [
         "1993-02-10 00:00:00",
         "44.65625",
         "44.75",
         "44.53125",
         "44.71875",
         "25.474411",
         "379600.0",
         "2.94"
        ],
        [
         "1993-02-11 00:00:00",
         "44.78125",
         "45.125",
         "44.78125",
         "44.9375",
         "25.599024",
         "19500.0",
         "2.92"
        ],
        [
         "1993-02-12 00:00:00",
         "44.875",
         "44.875",
         "44.59375",
         "44.59375",
         "25.403217",
         "42500.0",
         "2.93"
        ],
        [
         "1993-02-16 00:00:00",
         "44.46875",
         "44.46875",
         "43.40625",
         "43.46875",
         "24.762348",
         "374800.0",
         "2.93"
        ],
        [
         "1993-02-17 00:00:00",
         "43.46875",
         "43.53125",
         "43.28125",
         "43.4375",
         "24.744534",
         "210900.0",
         "2.91"
        ],
        [
         "1993-02-18 00:00:00",
         "43.9375",
         "43.9375",
         "42.8125",
         "43.40625",
         "24.72673",
         "378100.0",
         "2.89"
        ],
        [
         "1993-02-19 00:00:00",
         "43.40625",
         "43.5625",
         "43.34375",
         "43.5625",
         "24.81575",
         "34900.0",
         "2.93"
        ],
        [
         "1993-02-22 00:00:00",
         "43.6875",
         "43.78125",
         "43.5625",
         "43.71875",
         "24.904762",
         "513600.0",
         "2.95"
        ],
        [
         "1993-02-23 00:00:00",
         "43.84375",
         "43.875",
         "43.46875",
         "43.6875",
         "24.886953",
         "373700.0",
         "2.94"
        ],
        [
         "1993-02-24 00:00:00",
         "43.71875",
         "44.25",
         "43.71875",
         "44.25",
         "25.207384",
         "26300.0",
         "2.96"
        ],
        [
         "1993-02-25 00:00:00",
         "44.21875",
         "44.375",
         "44.125",
         "44.34375",
         "25.260788",
         "44500.0",
         "2.95"
        ],
        [
         "1993-02-26 00:00:00",
         "44.4375",
         "44.4375",
         "44.1875",
         "44.40625",
         "25.296408",
         "66200.0",
         "2.95"
        ],
        [
         "1993-03-01 00:00:00",
         "44.5625",
         "44.5625",
         "44.21875",
         "44.28125",
         "25.225189",
         "66500.0",
         "2.95"
        ],
        [
         "1993-03-02 00:00:00",
         "44.3125",
         "44.9375",
         "44.25",
         "44.9375",
         "25.599024",
         "182400.0",
         "2.97"
        ],
        [
         "1993-03-03 00:00:00",
         "45.0",
         "45.15625",
         "44.9375",
         "45.125",
         "25.705837",
         "280100.0",
         "2.94"
        ],
        [
         "1993-03-04 00:00:00",
         "45.1875",
         "45.1875",
         "44.875",
         "44.875",
         "25.563421",
         "89500.0",
         "2.91"
        ],
        [
         "1993-03-05 00:00:00",
         "44.9375",
         "45.125",
         "44.71875",
         "44.75",
         "25.492216",
         "40000.0",
         "3.0"
        ],
        [
         "1993-03-08 00:00:00",
         "44.84375",
         "45.75",
         "44.84375",
         "45.75",
         "26.061869",
         "50800.0",
         "3.0"
        ],
        [
         "1993-03-09 00:00:00",
         "45.65625",
         "45.6875",
         "45.5",
         "45.59375",
         "25.972866",
         "169300.0",
         "2.99"
        ],
        [
         "1993-03-10 00:00:00",
         "45.59375",
         "45.6875",
         "45.40625",
         "45.6875",
         "26.026272",
         "194400.0",
         "2.98"
        ],
        [
         "1993-03-11 00:00:00",
         "45.71875",
         "45.84375",
         "45.5",
         "45.5625",
         "25.955059",
         "70900.0",
         "2.96"
        ],
        [
         "1993-03-12 00:00:00",
         "45.1875",
         "45.21875",
         "44.8125",
         "45.09375",
         "25.688044",
         "643600.0",
         "2.97"
        ],
        [
         "1993-03-15 00:00:00",
         "45.0625",
         "45.3125",
         "45.0625",
         "45.3125",
         "25.812649",
         "310800.0",
         "2.99"
        ],
        [
         "1993-03-16 00:00:00",
         "45.3125",
         "45.4375",
         "45.3125",
         "45.3125",
         "25.812649",
         "30800.0",
         "2.98"
        ],
        [
         "1993-03-17 00:00:00",
         "45.25",
         "45.25",
         "44.96875",
         "45.03125",
         "25.652433",
         "21800.0",
         "2.98"
        ],
        [
         "1993-03-18 00:00:00",
         "45.21875",
         "45.5",
         "45.21875",
         "45.3125",
         "25.812649",
         "59300.0",
         "2.95"
        ],
        [
         "1993-03-19 00:00:00",
         "45.28125",
         "45.28125",
         "45.03125",
         "45.03125",
         "25.773577",
         "66900.0",
         "2.96"
        ],
        [
         "1993-03-22 00:00:00",
         "44.59375",
         "44.875",
         "44.5625",
         "44.78125",
         "25.630487",
         "183400.0",
         "2.94"
        ],
        [
         "1993-03-23 00:00:00",
         "44.90625",
         "44.9375",
         "44.8125",
         "44.875",
         "25.68417",
         "55200.0",
         "2.92"
        ],
        [
         "1993-03-24 00:00:00",
         "44.8125",
         "45.0625",
         "44.59375",
         "44.875",
         "25.68417",
         "37200.0",
         "2.92"
        ],
        [
         "1993-03-25 00:00:00",
         "44.90625",
         "45.25",
         "44.84375",
         "45.15625",
         "25.845133",
         "110100.0",
         "2.91"
        ],
        [
         "1993-03-26 00:00:00",
         "45.125",
         "45.15625",
         "44.875",
         "44.90625",
         "25.702045",
         "101500.0",
         "2.93"
        ],
        [
         "1993-03-29 00:00:00",
         "44.9375",
         "45.3125",
         "44.9375",
         "45.09375",
         "25.809357",
         "87100.0",
         "2.94"
        ],
        [
         "1993-03-30 00:00:00",
         "45.15625",
         "45.21875",
         "45.09375",
         "45.21875",
         "25.880903",
         "56000.0",
         "2.91"
        ],
        [
         "1993-03-31 00:00:00",
         "45.34375",
         "45.46875",
         "45.1875",
         "45.1875",
         "25.86301",
         "111600.0",
         "2.89"
        ],
        [
         "1993-04-01 00:00:00",
         "45.25",
         "45.25",
         "44.9375",
         "45.03125",
         "25.773577",
         "129500.0",
         "2.9"
        ],
        [
         "1993-04-02 00:00:00",
         "44.65625",
         "44.65625",
         "44.09375",
         "44.09375",
         "25.237032",
         "59400.0",
         "2.91"
        ],
        [
         "1993-04-05 00:00:00",
         "44.4375",
         "44.4375",
         "44.1875",
         "44.3125",
         "25.362215",
         "172200.0",
         "2.9"
        ],
        [
         "1993-04-06 00:00:00",
         "44.40625",
         "44.40625",
         "44.0625",
         "44.1875",
         "25.290672",
         "129700.0",
         "2.91"
        ],
        [
         "1993-04-07 00:00:00",
         "44.25",
         "44.34375",
         "44.15625",
         "44.34375",
         "25.380096",
         "28000.0",
         "2.92"
        ],
        [
         "1993-04-08 00:00:00",
         "44.53125",
         "44.53125",
         "44.09375",
         "44.28125",
         "25.344334",
         "180800.0",
         "2.9"
        ],
        [
         "1993-04-12 00:00:00",
         "44.71875",
         "44.9375",
         "44.65625",
         "44.90625",
         "25.702045",
         "348500.0",
         "2.89"
        ]
       ],
       "shape": {
        "columns": 7,
        "rows": 7699
       }
      },
      "text/html": [
       "<div>\n",
       "<style scoped>\n",
       "    .dataframe tbody tr th:only-of-type {\n",
       "        vertical-align: middle;\n",
       "    }\n",
       "\n",
       "    .dataframe tbody tr th {\n",
       "        vertical-align: top;\n",
       "    }\n",
       "\n",
       "    .dataframe thead th {\n",
       "        text-align: right;\n",
       "    }\n",
       "</style>\n",
       "<table border=\"1\" class=\"dataframe\">\n",
       "  <thead>\n",
       "    <tr style=\"text-align: right;\">\n",
       "      <th></th>\n",
       "      <th>Open</th>\n",
       "      <th>High</th>\n",
       "      <th>Low</th>\n",
       "      <th>Close_x</th>\n",
       "      <th>Adj Close</th>\n",
       "      <th>Volume</th>\n",
       "      <th>Close_IRX</th>\n",
       "    </tr>\n",
       "    <tr>\n",
       "      <th>Date</th>\n",
       "      <th></th>\n",
       "      <th></th>\n",
       "      <th></th>\n",
       "      <th></th>\n",
       "      <th></th>\n",
       "      <th></th>\n",
       "      <th></th>\n",
       "    </tr>\n",
       "  </thead>\n",
       "  <tbody>\n",
       "    <tr>\n",
       "      <th>1993-01-29</th>\n",
       "      <td>43.968750</td>\n",
       "      <td>43.968750</td>\n",
       "      <td>43.750000</td>\n",
       "      <td>43.937500</td>\n",
       "      <td>25.029371</td>\n",
       "      <td>1003200.0</td>\n",
       "      <td>2.900</td>\n",
       "    </tr>\n",
       "    <tr>\n",
       "      <th>1993-02-01</th>\n",
       "      <td>43.968750</td>\n",
       "      <td>44.250000</td>\n",
       "      <td>43.968750</td>\n",
       "      <td>44.250000</td>\n",
       "      <td>25.207384</td>\n",
       "      <td>480500.0</td>\n",
       "      <td>2.900</td>\n",
       "    </tr>\n",
       "    <tr>\n",
       "      <th>1993-02-02</th>\n",
       "      <td>44.218750</td>\n",
       "      <td>44.375000</td>\n",
       "      <td>44.125000</td>\n",
       "      <td>44.343750</td>\n",
       "      <td>25.260788</td>\n",
       "      <td>201300.0</td>\n",
       "      <td>2.960</td>\n",
       "    </tr>\n",
       "    <tr>\n",
       "      <th>1993-02-03</th>\n",
       "      <td>44.406250</td>\n",
       "      <td>44.843750</td>\n",
       "      <td>44.375000</td>\n",
       "      <td>44.812500</td>\n",
       "      <td>25.527826</td>\n",
       "      <td>529400.0</td>\n",
       "      <td>2.930</td>\n",
       "    </tr>\n",
       "    <tr>\n",
       "      <th>1993-02-04</th>\n",
       "      <td>44.968750</td>\n",
       "      <td>45.093750</td>\n",
       "      <td>44.468750</td>\n",
       "      <td>45.000000</td>\n",
       "      <td>25.634632</td>\n",
       "      <td>531500.0</td>\n",
       "      <td>2.900</td>\n",
       "    </tr>\n",
       "    <tr>\n",
       "      <th>...</th>\n",
       "      <td>...</td>\n",
       "      <td>...</td>\n",
       "      <td>...</td>\n",
       "      <td>...</td>\n",
       "      <td>...</td>\n",
       "      <td>...</td>\n",
       "      <td>...</td>\n",
       "    </tr>\n",
       "    <tr>\n",
       "      <th>2023-08-21</th>\n",
       "      <td>437.549988</td>\n",
       "      <td>440.109985</td>\n",
       "      <td>435.320007</td>\n",
       "      <td>439.339996</td>\n",
       "      <td>439.339996</td>\n",
       "      <td>68719000.0</td>\n",
       "      <td>5.280</td>\n",
       "    </tr>\n",
       "    <tr>\n",
       "      <th>2023-08-22</th>\n",
       "      <td>441.179993</td>\n",
       "      <td>441.179993</td>\n",
       "      <td>437.570007</td>\n",
       "      <td>438.149994</td>\n",
       "      <td>438.149994</td>\n",
       "      <td>65062900.0</td>\n",
       "      <td>5.295</td>\n",
       "    </tr>\n",
       "    <tr>\n",
       "      <th>2023-08-23</th>\n",
       "      <td>439.250000</td>\n",
       "      <td>443.670013</td>\n",
       "      <td>439.100006</td>\n",
       "      <td>443.029999</td>\n",
       "      <td>443.029999</td>\n",
       "      <td>68441000.0</td>\n",
       "      <td>5.295</td>\n",
       "    </tr>\n",
       "    <tr>\n",
       "      <th>2023-08-24</th>\n",
       "      <td>444.690002</td>\n",
       "      <td>445.220001</td>\n",
       "      <td>436.859985</td>\n",
       "      <td>436.890015</td>\n",
       "      <td>436.890015</td>\n",
       "      <td>88517300.0</td>\n",
       "      <td>5.303</td>\n",
       "    </tr>\n",
       "    <tr>\n",
       "      <th>2023-08-25</th>\n",
       "      <td>438.679993</td>\n",
       "      <td>441.299988</td>\n",
       "      <td>435.000000</td>\n",
       "      <td>439.970001</td>\n",
       "      <td>439.970001</td>\n",
       "      <td>102297000.0</td>\n",
       "      <td>5.315</td>\n",
       "    </tr>\n",
       "  </tbody>\n",
       "</table>\n",
       "<p>7699 rows × 7 columns</p>\n",
       "</div>"
      ],
      "text/plain": [
       "                  Open        High         Low     Close_x   Adj Close  \\\n",
       "Date                                                                     \n",
       "1993-01-29   43.968750   43.968750   43.750000   43.937500   25.029371   \n",
       "1993-02-01   43.968750   44.250000   43.968750   44.250000   25.207384   \n",
       "1993-02-02   44.218750   44.375000   44.125000   44.343750   25.260788   \n",
       "1993-02-03   44.406250   44.843750   44.375000   44.812500   25.527826   \n",
       "1993-02-04   44.968750   45.093750   44.468750   45.000000   25.634632   \n",
       "...                ...         ...         ...         ...         ...   \n",
       "2023-08-21  437.549988  440.109985  435.320007  439.339996  439.339996   \n",
       "2023-08-22  441.179993  441.179993  437.570007  438.149994  438.149994   \n",
       "2023-08-23  439.250000  443.670013  439.100006  443.029999  443.029999   \n",
       "2023-08-24  444.690002  445.220001  436.859985  436.890015  436.890015   \n",
       "2023-08-25  438.679993  441.299988  435.000000  439.970001  439.970001   \n",
       "\n",
       "                 Volume  Close_IRX  \n",
       "Date                                \n",
       "1993-01-29    1003200.0      2.900  \n",
       "1993-02-01     480500.0      2.900  \n",
       "1993-02-02     201300.0      2.960  \n",
       "1993-02-03     529400.0      2.930  \n",
       "1993-02-04     531500.0      2.900  \n",
       "...                 ...        ...  \n",
       "2023-08-21   68719000.0      5.280  \n",
       "2023-08-22   65062900.0      5.295  \n",
       "2023-08-23   68441000.0      5.295  \n",
       "2023-08-24   88517300.0      5.303  \n",
       "2023-08-25  102297000.0      5.315  \n",
       "\n",
       "[7699 rows x 7 columns]"
      ]
     },
     "metadata": {},
     "output_type": "display_data"
    }
   ],
   "source": [
    "spyirx = pd.merge(spy, irx['Close'] , left_index=True, right_index=True, how='outer')     \n",
    "spyirx.rename(columns={'Close_y':'Close_IRX'}, inplace=True)\n",
    "spyirx['Close_IRX'] = spyirx['Close_IRX'].fillna(method='ffill')\n",
    "spyirx = spyirx.dropna()\n",
    "display(spyirx)"
   ]
  },
  {
   "cell_type": "code",
   "execution_count": 101,
   "id": "44157578",
   "metadata": {},
   "outputs": [
    {
     "data": {
      "application/vnd.microsoft.datawrangler.viewer.v0+json": {
       "columns": [
        {
         "name": "Date",
         "rawType": "datetime64[ns]",
         "type": "datetime"
        },
        {
         "name": "Open",
         "rawType": "float64",
         "type": "float"
        },
        {
         "name": "High",
         "rawType": "float64",
         "type": "float"
        },
        {
         "name": "Low",
         "rawType": "float64",
         "type": "float"
        },
        {
         "name": "Close_x",
         "rawType": "float64",
         "type": "float"
        },
        {
         "name": "Adj Close",
         "rawType": "float64",
         "type": "float"
        },
        {
         "name": "Volume",
         "rawType": "float64",
         "type": "float"
        },
        {
         "name": "Close_IRX",
         "rawType": "float64",
         "type": "float"
        }
       ],
       "ref": "b8498a88-9fb1-4015-ad2b-1fde0bf51089",
       "rows": [
        [
         "2016-10-07 00:00:00",
         "216.100006",
         "216.300003",
         "214.190002",
         "215.039993",
         "191.093491",
         "89788300.0",
         "0.31"
        ],
        [
         "2016-10-10 00:00:00",
         "216.160004",
         "216.699997",
         "215.990005",
         "216.160004",
         "192.088745",
         "51855000.0",
         "0.31"
        ],
        [
         "2016-10-11 00:00:00",
         "215.660004",
         "215.740005",
         "212.580002",
         "213.429993",
         "189.662781",
         "130367400.0",
         "0.32"
        ],
        [
         "2016-10-12 00:00:00",
         "213.589996",
         "214.320007",
         "213.009995",
         "213.710007",
         "189.911606",
         "73866100.0",
         "0.34"
        ],
        [
         "2016-10-13 00:00:00",
         "212.160004",
         "213.589996",
         "211.210007",
         "213.009995",
         "189.289581",
         "101357000.0",
         "0.275"
        ],
        [
         "2016-10-14 00:00:00",
         "214.149994",
         "214.690002",
         "213.029999",
         "213.119995",
         "189.387299",
         "93346200.0",
         "0.29"
        ],
        [
         "2016-10-17 00:00:00",
         "213.089996",
         "213.389999",
         "212.169998",
         "212.380005",
         "188.729736",
         "58275700.0",
         "0.295"
        ],
        [
         "2016-10-18 00:00:00",
         "214.240005",
         "214.309998",
         "213.270004",
         "213.710007",
         "189.911606",
         "76869700.0",
         "0.333"
        ],
        [
         "2016-10-19 00:00:00",
         "214.020004",
         "214.639999",
         "213.600006",
         "214.279999",
         "190.418167",
         "66519200.0",
         "0.323"
        ],
        [
         "2016-10-20 00:00:00",
         "213.869995",
         "214.529999",
         "213.110001",
         "213.880005",
         "190.062698",
         "73639800.0",
         "0.32"
        ]
       ],
       "shape": {
        "columns": 7,
        "rows": 10
       }
      },
      "text/html": [
       "<div>\n",
       "<style scoped>\n",
       "    .dataframe tbody tr th:only-of-type {\n",
       "        vertical-align: middle;\n",
       "    }\n",
       "\n",
       "    .dataframe tbody tr th {\n",
       "        vertical-align: top;\n",
       "    }\n",
       "\n",
       "    .dataframe thead th {\n",
       "        text-align: right;\n",
       "    }\n",
       "</style>\n",
       "<table border=\"1\" class=\"dataframe\">\n",
       "  <thead>\n",
       "    <tr style=\"text-align: right;\">\n",
       "      <th></th>\n",
       "      <th>Open</th>\n",
       "      <th>High</th>\n",
       "      <th>Low</th>\n",
       "      <th>Close_x</th>\n",
       "      <th>Adj Close</th>\n",
       "      <th>Volume</th>\n",
       "      <th>Close_IRX</th>\n",
       "    </tr>\n",
       "    <tr>\n",
       "      <th>Date</th>\n",
       "      <th></th>\n",
       "      <th></th>\n",
       "      <th></th>\n",
       "      <th></th>\n",
       "      <th></th>\n",
       "      <th></th>\n",
       "      <th></th>\n",
       "    </tr>\n",
       "  </thead>\n",
       "  <tbody>\n",
       "    <tr>\n",
       "      <th>2016-10-07</th>\n",
       "      <td>216.100006</td>\n",
       "      <td>216.300003</td>\n",
       "      <td>214.190002</td>\n",
       "      <td>215.039993</td>\n",
       "      <td>191.093491</td>\n",
       "      <td>89788300.0</td>\n",
       "      <td>0.310</td>\n",
       "    </tr>\n",
       "    <tr>\n",
       "      <th>2016-10-10</th>\n",
       "      <td>216.160004</td>\n",
       "      <td>216.699997</td>\n",
       "      <td>215.990005</td>\n",
       "      <td>216.160004</td>\n",
       "      <td>192.088745</td>\n",
       "      <td>51855000.0</td>\n",
       "      <td>0.310</td>\n",
       "    </tr>\n",
       "    <tr>\n",
       "      <th>2016-10-11</th>\n",
       "      <td>215.660004</td>\n",
       "      <td>215.740005</td>\n",
       "      <td>212.580002</td>\n",
       "      <td>213.429993</td>\n",
       "      <td>189.662781</td>\n",
       "      <td>130367400.0</td>\n",
       "      <td>0.320</td>\n",
       "    </tr>\n",
       "    <tr>\n",
       "      <th>2016-10-12</th>\n",
       "      <td>213.589996</td>\n",
       "      <td>214.320007</td>\n",
       "      <td>213.009995</td>\n",
       "      <td>213.710007</td>\n",
       "      <td>189.911606</td>\n",
       "      <td>73866100.0</td>\n",
       "      <td>0.340</td>\n",
       "    </tr>\n",
       "    <tr>\n",
       "      <th>2016-10-13</th>\n",
       "      <td>212.160004</td>\n",
       "      <td>213.589996</td>\n",
       "      <td>211.210007</td>\n",
       "      <td>213.009995</td>\n",
       "      <td>189.289581</td>\n",
       "      <td>101357000.0</td>\n",
       "      <td>0.275</td>\n",
       "    </tr>\n",
       "    <tr>\n",
       "      <th>2016-10-14</th>\n",
       "      <td>214.149994</td>\n",
       "      <td>214.690002</td>\n",
       "      <td>213.029999</td>\n",
       "      <td>213.119995</td>\n",
       "      <td>189.387299</td>\n",
       "      <td>93346200.0</td>\n",
       "      <td>0.290</td>\n",
       "    </tr>\n",
       "    <tr>\n",
       "      <th>2016-10-17</th>\n",
       "      <td>213.089996</td>\n",
       "      <td>213.389999</td>\n",
       "      <td>212.169998</td>\n",
       "      <td>212.380005</td>\n",
       "      <td>188.729736</td>\n",
       "      <td>58275700.0</td>\n",
       "      <td>0.295</td>\n",
       "    </tr>\n",
       "    <tr>\n",
       "      <th>2016-10-18</th>\n",
       "      <td>214.240005</td>\n",
       "      <td>214.309998</td>\n",
       "      <td>213.270004</td>\n",
       "      <td>213.710007</td>\n",
       "      <td>189.911606</td>\n",
       "      <td>76869700.0</td>\n",
       "      <td>0.333</td>\n",
       "    </tr>\n",
       "    <tr>\n",
       "      <th>2016-10-19</th>\n",
       "      <td>214.020004</td>\n",
       "      <td>214.639999</td>\n",
       "      <td>213.600006</td>\n",
       "      <td>214.279999</td>\n",
       "      <td>190.418167</td>\n",
       "      <td>66519200.0</td>\n",
       "      <td>0.323</td>\n",
       "    </tr>\n",
       "    <tr>\n",
       "      <th>2016-10-20</th>\n",
       "      <td>213.869995</td>\n",
       "      <td>214.529999</td>\n",
       "      <td>213.110001</td>\n",
       "      <td>213.880005</td>\n",
       "      <td>190.062698</td>\n",
       "      <td>73639800.0</td>\n",
       "      <td>0.320</td>\n",
       "    </tr>\n",
       "  </tbody>\n",
       "</table>\n",
       "</div>"
      ],
      "text/plain": [
       "                  Open        High         Low     Close_x   Adj Close  \\\n",
       "Date                                                                     \n",
       "2016-10-07  216.100006  216.300003  214.190002  215.039993  191.093491   \n",
       "2016-10-10  216.160004  216.699997  215.990005  216.160004  192.088745   \n",
       "2016-10-11  215.660004  215.740005  212.580002  213.429993  189.662781   \n",
       "2016-10-12  213.589996  214.320007  213.009995  213.710007  189.911606   \n",
       "2016-10-13  212.160004  213.589996  211.210007  213.009995  189.289581   \n",
       "2016-10-14  214.149994  214.690002  213.029999  213.119995  189.387299   \n",
       "2016-10-17  213.089996  213.389999  212.169998  212.380005  188.729736   \n",
       "2016-10-18  214.240005  214.309998  213.270004  213.710007  189.911606   \n",
       "2016-10-19  214.020004  214.639999  213.600006  214.279999  190.418167   \n",
       "2016-10-20  213.869995  214.529999  213.110001  213.880005  190.062698   \n",
       "\n",
       "                 Volume  Close_IRX  \n",
       "Date                                \n",
       "2016-10-07   89788300.0      0.310  \n",
       "2016-10-10   51855000.0      0.310  \n",
       "2016-10-11  130367400.0      0.320  \n",
       "2016-10-12   73866100.0      0.340  \n",
       "2016-10-13  101357000.0      0.275  \n",
       "2016-10-14   93346200.0      0.290  \n",
       "2016-10-17   58275700.0      0.295  \n",
       "2016-10-18   76869700.0      0.333  \n",
       "2016-10-19   66519200.0      0.323  \n",
       "2016-10-20   73639800.0      0.320  "
      ]
     },
     "execution_count": 101,
     "metadata": {},
     "output_type": "execute_result"
    }
   ],
   "source": [
    "spyirx.loc['2016-10-07':'2016-10-20']"
   ]
  },
  {
   "cell_type": "code",
   "execution_count": null,
   "id": "66a84a80",
   "metadata": {},
   "outputs": [],
   "source": []
  }
 ],
 "metadata": {
  "kernelspec": {
   "display_name": "Python 3",
   "language": "python",
   "name": "python3"
  },
  "language_info": {
   "codemirror_mode": {
    "name": "ipython",
    "version": 3
   },
   "file_extension": ".py",
   "mimetype": "text/x-python",
   "name": "python",
   "nbconvert_exporter": "python",
   "pygments_lexer": "ipython3",
   "version": "3.12.10"
  }
 },
 "nbformat": 4,
 "nbformat_minor": 5
}
